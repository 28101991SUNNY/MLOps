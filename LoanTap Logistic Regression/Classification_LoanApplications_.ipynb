{
 "cells": [
  {
   "cell_type": "markdown",
   "id": "ea83fbe3",
   "metadata": {},
   "source": [
    "### Context:\n",
    "\n",
    "- A Non-Banking Finance Company like LoanTap is an online platform committed to delivering customized loan products to millennials. \n",
    "- They innovate in an otherwise dull loan segment, to deliver instant, flexible loans on consumer friendly terms to salaried professionals and businessmen.\n",
    "\n",
    "\n",
    "- The data science team is building an underwriting layer to determine the creditworthiness of MSMEs as well as individuals.\n",
    "\n",
    "- Company deploys formal credit to salaried individuals and businesses 4 main financial instruments:\n",
    "\n",
    "    - Personal Loan\n",
    "    - EMI Free Loan\n",
    "    - Personal Overdraft\n",
    "    - Advance Salary Loan\n",
    "\n",
    "- This case study will focus on the underwriting process behind Personal Loan only\n",
    "\n",
    "\n",
    "\n",
    "## Problem Statement:\n",
    "\n",
    "- Given a set of attributes for an Individual, determine if a credit line should be extended to them. If so, what should the repayment terms be in business recommendations?\n",
    "\n",
    "####  Tradeoff Questions:\n",
    "\n",
    "- How can we make sure that our model can detect real defaulters and there are less false positives? This is important as we can lose out on an opportunity to finance more individuals and earn interest on it.\n",
    "\n",
    "- Since NPA (non-performing asset) is a real problem in this industry, it’s important we play safe and shouldn’t disburse loans to anyone\n",
    "\n",
    "\n",
    "## Data dictionary:\n",
    "\n",
    "1. loan_amnt : The listed amount of the loan applied for by the borrower. If at some point in time, the credit department reduces the loan amount, then it will be reflected in this value.\n",
    "2. term : The number of payments on the loan. Values are in months and can be either 36 or 60.\n",
    "3. int_rate : Interest Rate on the loan\n",
    "4. installment : The monthly payment owed by the borrower if the loan originates.\n",
    "5. grade : Institution assigned loan grade\n",
    "6. sub_grade : Institution assigned loan subgrade\n",
    "7. emp_title :The job title supplied by the Borrower when applying for the loan.*\n",
    "8. emp_length : Employment length in years. Possible values are between 0 and 10 where 0 means less than one year and 10 means ten or more years.\n",
    "9. home_ownership : The home ownership status provided by the borrower during registration or obtained from the credit report.\n",
    "10. annual_inc : The self-reported annual income provided by the borrower during registration.\n",
    "11. verification_status : Indicates if income was verified by Institution, not verified, or if the income source was verified\n",
    "12. issue_d : The month which the loan was funded\n",
    "13. loan_status : Current status of the loan - Target Variable\n",
    "14. purpose : A category provided by the borrower for the loan request.\n",
    "15. title : The loan title provided by the borrower\n",
    "16. dti : A ratio calculated using the borrower’s total monthly debt payments on the total debt obligations, excluding mortgage and the requested Institution loan, divided by the borrower’s self-reported monthly income.\n",
    "17. earliest_cr_line :The month the borrower's earliest reported credit line was opened\n",
    "18. open_acc : The number of open credit lines in the borrower's credit file.\n",
    "19. pub_rec : Number of derogatory public records\n",
    "20. revol_bal : Total credit revolving balance\n",
    "21. revol_util : Revolving line utilization rate, or the amount of credit the borrower is using relative to all available revolving credit.\n",
    "22. total_acc : The total number of credit lines currently in the borrower's credit file\n",
    "23. initial_list_status : The initial listing status of the loan. Possible values are – W, F\n",
    "24. application_type : Indicates whether the loan is an individual application or a joint application with two co-borrowers\n",
    "25. mort_acc : Number of mortgage accounts.\n",
    "26. pub_rec_bankruptcies : Number of public record bankruptcies\n",
    "27. Address: Address of the individual\n",
    "\n",
    "\n",
    "\n",
    "\n",
    "\n",
    "\n",
    "\n"
   ]
  },
  {
   "cell_type": "code",
   "execution_count": 246,
   "id": "2e9a814d",
   "metadata": {},
   "outputs": [],
   "source": [
    "\n",
    "import pandas as pd\n",
    "import numpy as np\n",
    "import seaborn as sns\n",
    "import matplotlib.pyplot as plt\n",
    "%matplotlib inline\n",
    "from matplotlib import figure\n",
    "\n",
    "import warnings\n",
    "warnings.filterwarnings('ignore')\n",
    "\n",
    "pd.set_option('display.max_rows', 500)\n",
    "pd.set_option('display.max_columns', 500)\n",
    "pd.set_option('display.width', 1000)"
   ]
  },
  {
   "cell_type": "code",
   "execution_count": 247,
   "id": "46ba5183",
   "metadata": {},
   "outputs": [],
   "source": [
    "df = pd.read_csv(\"logistic_regression.txt\")"
   ]
  },
  {
   "cell_type": "code",
   "execution_count": 248,
   "id": "219fe2bd",
   "metadata": {},
   "outputs": [],
   "source": [
    "df = df.dropna()"
   ]
  },
  {
   "cell_type": "code",
   "execution_count": 249,
   "id": "88f01aa6",
   "metadata": {},
   "outputs": [],
   "source": [
    "df = df.drop([\"emp_length\",\n",
    "         \"verification_status\",\n",
    "        \"issue_d\",\n",
    "         \"title\",\n",
    "         \"earliest_cr_line\",\n",
    "         \"initial_list_status\",\n",
    "         \"emp_title\"\n",
    "         \n",
    "        ],axis = 1)\n"
   ]
  },
  {
   "cell_type": "code",
   "execution_count": null,
   "id": "702d6d1d",
   "metadata": {},
   "outputs": [],
   "source": []
  },
  {
   "cell_type": "code",
   "execution_count": 250,
   "id": "aef415a8",
   "metadata": {},
   "outputs": [],
   "source": [
    "# df.address.apply(lambda x: x[-5:])\n",
    "df['Zip_Code'] = df.address.apply(lambda x: x[-5:])\n",
    "df.drop(\"address\",axis = 1 , inplace=True)\n"
   ]
  },
  {
   "cell_type": "code",
   "execution_count": null,
   "id": "3605d3bd",
   "metadata": {},
   "outputs": [],
   "source": []
  },
  {
   "cell_type": "code",
   "execution_count": 251,
   "id": "8d632fcd",
   "metadata": {},
   "outputs": [
    {
     "data": {
      "text/html": [
       "<div>\n",
       "<style scoped>\n",
       "    .dataframe tbody tr th:only-of-type {\n",
       "        vertical-align: middle;\n",
       "    }\n",
       "\n",
       "    .dataframe tbody tr th {\n",
       "        vertical-align: top;\n",
       "    }\n",
       "\n",
       "    .dataframe thead th {\n",
       "        text-align: right;\n",
       "    }\n",
       "</style>\n",
       "<table border=\"1\" class=\"dataframe\">\n",
       "  <thead>\n",
       "    <tr style=\"text-align: right;\">\n",
       "      <th></th>\n",
       "      <th>loan_amnt</th>\n",
       "      <th>term</th>\n",
       "      <th>int_rate</th>\n",
       "      <th>installment</th>\n",
       "      <th>grade</th>\n",
       "      <th>sub_grade</th>\n",
       "      <th>home_ownership</th>\n",
       "      <th>annual_inc</th>\n",
       "      <th>loan_status</th>\n",
       "      <th>purpose</th>\n",
       "      <th>dti</th>\n",
       "      <th>open_acc</th>\n",
       "      <th>pub_rec</th>\n",
       "      <th>revol_bal</th>\n",
       "      <th>revol_util</th>\n",
       "      <th>total_acc</th>\n",
       "      <th>application_type</th>\n",
       "      <th>mort_acc</th>\n",
       "      <th>pub_rec_bankruptcies</th>\n",
       "      <th>Zip_Code</th>\n",
       "    </tr>\n",
       "  </thead>\n",
       "  <tbody>\n",
       "    <tr>\n",
       "      <th>0</th>\n",
       "      <td>10000.0</td>\n",
       "      <td>36 months</td>\n",
       "      <td>11.44</td>\n",
       "      <td>329.48</td>\n",
       "      <td>B</td>\n",
       "      <td>B4</td>\n",
       "      <td>RENT</td>\n",
       "      <td>117000.0</td>\n",
       "      <td>Fully Paid</td>\n",
       "      <td>vacation</td>\n",
       "      <td>26.24</td>\n",
       "      <td>16.0</td>\n",
       "      <td>0.0</td>\n",
       "      <td>36369.0</td>\n",
       "      <td>41.8</td>\n",
       "      <td>25.0</td>\n",
       "      <td>INDIVIDUAL</td>\n",
       "      <td>0.0</td>\n",
       "      <td>0.0</td>\n",
       "      <td>22690</td>\n",
       "    </tr>\n",
       "    <tr>\n",
       "      <th>1</th>\n",
       "      <td>8000.0</td>\n",
       "      <td>36 months</td>\n",
       "      <td>11.99</td>\n",
       "      <td>265.68</td>\n",
       "      <td>B</td>\n",
       "      <td>B5</td>\n",
       "      <td>MORTGAGE</td>\n",
       "      <td>65000.0</td>\n",
       "      <td>Fully Paid</td>\n",
       "      <td>debt_consolidation</td>\n",
       "      <td>22.05</td>\n",
       "      <td>17.0</td>\n",
       "      <td>0.0</td>\n",
       "      <td>20131.0</td>\n",
       "      <td>53.3</td>\n",
       "      <td>27.0</td>\n",
       "      <td>INDIVIDUAL</td>\n",
       "      <td>3.0</td>\n",
       "      <td>0.0</td>\n",
       "      <td>05113</td>\n",
       "    </tr>\n",
       "    <tr>\n",
       "      <th>2</th>\n",
       "      <td>15600.0</td>\n",
       "      <td>36 months</td>\n",
       "      <td>10.49</td>\n",
       "      <td>506.97</td>\n",
       "      <td>B</td>\n",
       "      <td>B3</td>\n",
       "      <td>RENT</td>\n",
       "      <td>43057.0</td>\n",
       "      <td>Fully Paid</td>\n",
       "      <td>credit_card</td>\n",
       "      <td>12.79</td>\n",
       "      <td>13.0</td>\n",
       "      <td>0.0</td>\n",
       "      <td>11987.0</td>\n",
       "      <td>92.2</td>\n",
       "      <td>26.0</td>\n",
       "      <td>INDIVIDUAL</td>\n",
       "      <td>0.0</td>\n",
       "      <td>0.0</td>\n",
       "      <td>05113</td>\n",
       "    </tr>\n",
       "    <tr>\n",
       "      <th>3</th>\n",
       "      <td>7200.0</td>\n",
       "      <td>36 months</td>\n",
       "      <td>6.49</td>\n",
       "      <td>220.65</td>\n",
       "      <td>A</td>\n",
       "      <td>A2</td>\n",
       "      <td>RENT</td>\n",
       "      <td>54000.0</td>\n",
       "      <td>Fully Paid</td>\n",
       "      <td>credit_card</td>\n",
       "      <td>2.60</td>\n",
       "      <td>6.0</td>\n",
       "      <td>0.0</td>\n",
       "      <td>5472.0</td>\n",
       "      <td>21.5</td>\n",
       "      <td>13.0</td>\n",
       "      <td>INDIVIDUAL</td>\n",
       "      <td>0.0</td>\n",
       "      <td>0.0</td>\n",
       "      <td>00813</td>\n",
       "    </tr>\n",
       "    <tr>\n",
       "      <th>4</th>\n",
       "      <td>24375.0</td>\n",
       "      <td>60 months</td>\n",
       "      <td>17.27</td>\n",
       "      <td>609.33</td>\n",
       "      <td>C</td>\n",
       "      <td>C5</td>\n",
       "      <td>MORTGAGE</td>\n",
       "      <td>55000.0</td>\n",
       "      <td>Charged Off</td>\n",
       "      <td>credit_card</td>\n",
       "      <td>33.95</td>\n",
       "      <td>13.0</td>\n",
       "      <td>0.0</td>\n",
       "      <td>24584.0</td>\n",
       "      <td>69.8</td>\n",
       "      <td>43.0</td>\n",
       "      <td>INDIVIDUAL</td>\n",
       "      <td>1.0</td>\n",
       "      <td>0.0</td>\n",
       "      <td>11650</td>\n",
       "    </tr>\n",
       "    <tr>\n",
       "      <th>...</th>\n",
       "      <td>...</td>\n",
       "      <td>...</td>\n",
       "      <td>...</td>\n",
       "      <td>...</td>\n",
       "      <td>...</td>\n",
       "      <td>...</td>\n",
       "      <td>...</td>\n",
       "      <td>...</td>\n",
       "      <td>...</td>\n",
       "      <td>...</td>\n",
       "      <td>...</td>\n",
       "      <td>...</td>\n",
       "      <td>...</td>\n",
       "      <td>...</td>\n",
       "      <td>...</td>\n",
       "      <td>...</td>\n",
       "      <td>...</td>\n",
       "      <td>...</td>\n",
       "      <td>...</td>\n",
       "      <td>...</td>\n",
       "    </tr>\n",
       "    <tr>\n",
       "      <th>396024</th>\n",
       "      <td>6000.0</td>\n",
       "      <td>36 months</td>\n",
       "      <td>13.11</td>\n",
       "      <td>202.49</td>\n",
       "      <td>B</td>\n",
       "      <td>B4</td>\n",
       "      <td>RENT</td>\n",
       "      <td>64000.0</td>\n",
       "      <td>Fully Paid</td>\n",
       "      <td>debt_consolidation</td>\n",
       "      <td>10.81</td>\n",
       "      <td>7.0</td>\n",
       "      <td>0.0</td>\n",
       "      <td>11456.0</td>\n",
       "      <td>97.1</td>\n",
       "      <td>9.0</td>\n",
       "      <td>INDIVIDUAL</td>\n",
       "      <td>0.0</td>\n",
       "      <td>0.0</td>\n",
       "      <td>05113</td>\n",
       "    </tr>\n",
       "    <tr>\n",
       "      <th>396025</th>\n",
       "      <td>10000.0</td>\n",
       "      <td>60 months</td>\n",
       "      <td>10.99</td>\n",
       "      <td>217.38</td>\n",
       "      <td>B</td>\n",
       "      <td>B4</td>\n",
       "      <td>RENT</td>\n",
       "      <td>40000.0</td>\n",
       "      <td>Fully Paid</td>\n",
       "      <td>debt_consolidation</td>\n",
       "      <td>15.63</td>\n",
       "      <td>6.0</td>\n",
       "      <td>0.0</td>\n",
       "      <td>1990.0</td>\n",
       "      <td>34.3</td>\n",
       "      <td>23.0</td>\n",
       "      <td>INDIVIDUAL</td>\n",
       "      <td>0.0</td>\n",
       "      <td>0.0</td>\n",
       "      <td>30723</td>\n",
       "    </tr>\n",
       "    <tr>\n",
       "      <th>396026</th>\n",
       "      <td>21000.0</td>\n",
       "      <td>36 months</td>\n",
       "      <td>12.29</td>\n",
       "      <td>700.42</td>\n",
       "      <td>C</td>\n",
       "      <td>C1</td>\n",
       "      <td>MORTGAGE</td>\n",
       "      <td>110000.0</td>\n",
       "      <td>Fully Paid</td>\n",
       "      <td>debt_consolidation</td>\n",
       "      <td>21.45</td>\n",
       "      <td>6.0</td>\n",
       "      <td>0.0</td>\n",
       "      <td>43263.0</td>\n",
       "      <td>95.7</td>\n",
       "      <td>8.0</td>\n",
       "      <td>INDIVIDUAL</td>\n",
       "      <td>1.0</td>\n",
       "      <td>0.0</td>\n",
       "      <td>05113</td>\n",
       "    </tr>\n",
       "    <tr>\n",
       "      <th>396027</th>\n",
       "      <td>5000.0</td>\n",
       "      <td>36 months</td>\n",
       "      <td>9.99</td>\n",
       "      <td>161.32</td>\n",
       "      <td>B</td>\n",
       "      <td>B1</td>\n",
       "      <td>RENT</td>\n",
       "      <td>56500.0</td>\n",
       "      <td>Fully Paid</td>\n",
       "      <td>debt_consolidation</td>\n",
       "      <td>17.56</td>\n",
       "      <td>15.0</td>\n",
       "      <td>0.0</td>\n",
       "      <td>32704.0</td>\n",
       "      <td>66.9</td>\n",
       "      <td>23.0</td>\n",
       "      <td>INDIVIDUAL</td>\n",
       "      <td>0.0</td>\n",
       "      <td>0.0</td>\n",
       "      <td>70466</td>\n",
       "    </tr>\n",
       "    <tr>\n",
       "      <th>396028</th>\n",
       "      <td>21000.0</td>\n",
       "      <td>60 months</td>\n",
       "      <td>15.31</td>\n",
       "      <td>503.02</td>\n",
       "      <td>C</td>\n",
       "      <td>C2</td>\n",
       "      <td>MORTGAGE</td>\n",
       "      <td>64000.0</td>\n",
       "      <td>Fully Paid</td>\n",
       "      <td>debt_consolidation</td>\n",
       "      <td>15.88</td>\n",
       "      <td>9.0</td>\n",
       "      <td>0.0</td>\n",
       "      <td>15704.0</td>\n",
       "      <td>53.8</td>\n",
       "      <td>20.0</td>\n",
       "      <td>INDIVIDUAL</td>\n",
       "      <td>5.0</td>\n",
       "      <td>0.0</td>\n",
       "      <td>29597</td>\n",
       "    </tr>\n",
       "  </tbody>\n",
       "</table>\n",
       "<p>335868 rows × 20 columns</p>\n",
       "</div>"
      ],
      "text/plain": [
       "        loan_amnt        term  int_rate  installment grade sub_grade home_ownership  annual_inc  loan_status             purpose    dti  open_acc  pub_rec  revol_bal  revol_util  total_acc application_type  mort_acc  pub_rec_bankruptcies Zip_Code\n",
       "0         10000.0   36 months     11.44       329.48     B        B4           RENT    117000.0   Fully Paid            vacation  26.24      16.0      0.0    36369.0        41.8       25.0       INDIVIDUAL       0.0                   0.0    22690\n",
       "1          8000.0   36 months     11.99       265.68     B        B5       MORTGAGE     65000.0   Fully Paid  debt_consolidation  22.05      17.0      0.0    20131.0        53.3       27.0       INDIVIDUAL       3.0                   0.0    05113\n",
       "2         15600.0   36 months     10.49       506.97     B        B3           RENT     43057.0   Fully Paid         credit_card  12.79      13.0      0.0    11987.0        92.2       26.0       INDIVIDUAL       0.0                   0.0    05113\n",
       "3          7200.0   36 months      6.49       220.65     A        A2           RENT     54000.0   Fully Paid         credit_card   2.60       6.0      0.0     5472.0        21.5       13.0       INDIVIDUAL       0.0                   0.0    00813\n",
       "4         24375.0   60 months     17.27       609.33     C        C5       MORTGAGE     55000.0  Charged Off         credit_card  33.95      13.0      0.0    24584.0        69.8       43.0       INDIVIDUAL       1.0                   0.0    11650\n",
       "...           ...         ...       ...          ...   ...       ...            ...         ...          ...                 ...    ...       ...      ...        ...         ...        ...              ...       ...                   ...      ...\n",
       "396024     6000.0   36 months     13.11       202.49     B        B4           RENT     64000.0   Fully Paid  debt_consolidation  10.81       7.0      0.0    11456.0        97.1        9.0       INDIVIDUAL       0.0                   0.0    05113\n",
       "396025    10000.0   60 months     10.99       217.38     B        B4           RENT     40000.0   Fully Paid  debt_consolidation  15.63       6.0      0.0     1990.0        34.3       23.0       INDIVIDUAL       0.0                   0.0    30723\n",
       "396026    21000.0   36 months     12.29       700.42     C        C1       MORTGAGE    110000.0   Fully Paid  debt_consolidation  21.45       6.0      0.0    43263.0        95.7        8.0       INDIVIDUAL       1.0                   0.0    05113\n",
       "396027     5000.0   36 months      9.99       161.32     B        B1           RENT     56500.0   Fully Paid  debt_consolidation  17.56      15.0      0.0    32704.0        66.9       23.0       INDIVIDUAL       0.0                   0.0    70466\n",
       "396028    21000.0   60 months     15.31       503.02     C        C2       MORTGAGE     64000.0   Fully Paid  debt_consolidation  15.88       9.0      0.0    15704.0        53.8       20.0       INDIVIDUAL       5.0                   0.0    29597\n",
       "\n",
       "[335868 rows x 20 columns]"
      ]
     },
     "execution_count": 251,
     "metadata": {},
     "output_type": "execute_result"
    }
   ],
   "source": [
    "df"
   ]
  },
  {
   "cell_type": "code",
   "execution_count": 252,
   "id": "e40c574a",
   "metadata": {},
   "outputs": [],
   "source": [
    "df[\"loan_status\"] = df[\"loan_status\"].replace({\"Fully Paid\":0,\n",
    "                           \"Charged Off\":1\n",
    "                          })"
   ]
  },
  {
   "cell_type": "code",
   "execution_count": 253,
   "id": "53abd10a",
   "metadata": {},
   "outputs": [
    {
     "data": {
      "text/plain": [
       "0    269556\n",
       "1     66312\n",
       "Name: loan_status, dtype: int64"
      ]
     },
     "execution_count": 253,
     "metadata": {},
     "output_type": "execute_result"
    }
   ],
   "source": [
    "df[\"loan_status\"].value_counts()"
   ]
  },
  {
   "cell_type": "markdown",
   "id": "a86f9fd3",
   "metadata": {},
   "source": [
    "# Term"
   ]
  },
  {
   "cell_type": "code",
   "execution_count": 254,
   "id": "f04972a7",
   "metadata": {},
   "outputs": [
    {
     "data": {
      "text/plain": [
       "Index([' 36 months', ' 60 months'], dtype='object')"
      ]
     },
     "execution_count": 254,
     "metadata": {},
     "output_type": "execute_result"
    }
   ],
   "source": [
    "df[\"term\"].value_counts(normalize=True, dropna=False).index"
   ]
  },
  {
   "cell_type": "code",
   "execution_count": 255,
   "id": "dd665496",
   "metadata": {},
   "outputs": [],
   "source": [
    "df.term = df.term.replace({' 36 months' : 0,\n",
    "                 ' 60 months' : 1\n",
    "                })\n",
    "\n"
   ]
  },
  {
   "cell_type": "code",
   "execution_count": 349,
   "id": "587995be",
   "metadata": {},
   "outputs": [],
   "source": [
    "term_map = {' 36 months' : 0,\n",
    "                 ' 60 months' : 1}"
   ]
  },
  {
   "cell_type": "markdown",
   "id": "3884365e",
   "metadata": {},
   "source": [
    "# Grade"
   ]
  },
  {
   "cell_type": "code",
   "execution_count": 256,
   "id": "e6a1d77a",
   "metadata": {},
   "outputs": [
    {
     "data": {
      "text/plain": [
       "array(['B', 'A', 'C', 'E', 'D', 'F', 'G'], dtype=object)"
      ]
     },
     "execution_count": 256,
     "metadata": {},
     "output_type": "execute_result"
    }
   ],
   "source": [
    "df[\"grade\"].unique()"
   ]
  },
  {
   "cell_type": "code",
   "execution_count": 257,
   "id": "17962795",
   "metadata": {},
   "outputs": [],
   "source": [
    "df[\"grade\"] = df[\"grade\"].replace({\"A\":0,\n",
    "                    \"B\":1,\n",
    "                    \"C\":2,\n",
    "                    \"D\":3,\n",
    "                    \"E\":4,\n",
    "                    \"F\":5,\n",
    "                    \"G\":6})\n",
    "\n"
   ]
  },
  {
   "cell_type": "code",
   "execution_count": 350,
   "id": "3daca308",
   "metadata": {},
   "outputs": [],
   "source": [
    "Grade_map = {\"A\":0,\n",
    "                    \"B\":1,\n",
    "                    \"C\":2,\n",
    "                    \"D\":3,\n",
    "                    \"E\":4,\n",
    "                    \"F\":5,\n",
    "                    \"G\":6}"
   ]
  },
  {
   "cell_type": "markdown",
   "id": "465c6840",
   "metadata": {},
   "source": [
    "# sub_grade"
   ]
  },
  {
   "cell_type": "code",
   "execution_count": 258,
   "id": "31f22c9d",
   "metadata": {},
   "outputs": [
    {
     "data": {
      "text/plain": [
       "35"
      ]
     },
     "execution_count": 258,
     "metadata": {},
     "output_type": "execute_result"
    }
   ],
   "source": [
    "len(df[\"sub_grade\"].unique())"
   ]
  },
  {
   "cell_type": "code",
   "execution_count": 259,
   "id": "90f4bf60",
   "metadata": {},
   "outputs": [],
   "source": [
    "mapping_dict = {}\n",
    "x = 0\n",
    "for i in sorted(df[\"sub_grade\"].unique()):\n",
    "    mapping_dict[i] = x\n",
    "    x+= 1 "
   ]
  },
  {
   "cell_type": "code",
   "execution_count": 260,
   "id": "eef20d4c",
   "metadata": {},
   "outputs": [
    {
     "data": {
      "text/plain": [
       "{'A1': 0,\n",
       " 'A2': 1,\n",
       " 'A3': 2,\n",
       " 'A4': 3,\n",
       " 'A5': 4,\n",
       " 'B1': 5,\n",
       " 'B2': 6,\n",
       " 'B3': 7,\n",
       " 'B4': 8,\n",
       " 'B5': 9,\n",
       " 'C1': 10,\n",
       " 'C2': 11,\n",
       " 'C3': 12,\n",
       " 'C4': 13,\n",
       " 'C5': 14,\n",
       " 'D1': 15,\n",
       " 'D2': 16,\n",
       " 'D3': 17,\n",
       " 'D4': 18,\n",
       " 'D5': 19,\n",
       " 'E1': 20,\n",
       " 'E2': 21,\n",
       " 'E3': 22,\n",
       " 'E4': 23,\n",
       " 'E5': 24,\n",
       " 'F1': 25,\n",
       " 'F2': 26,\n",
       " 'F3': 27,\n",
       " 'F4': 28,\n",
       " 'F5': 29,\n",
       " 'G1': 30,\n",
       " 'G2': 31,\n",
       " 'G3': 32,\n",
       " 'G4': 33,\n",
       " 'G5': 34}"
      ]
     },
     "execution_count": 260,
     "metadata": {},
     "output_type": "execute_result"
    }
   ],
   "source": [
    "sub_grade_map = mapping_dict\n",
    "sub_grade_map"
   ]
  },
  {
   "cell_type": "code",
   "execution_count": null,
   "id": "c13aef8d",
   "metadata": {},
   "outputs": [],
   "source": []
  },
  {
   "cell_type": "code",
   "execution_count": 261,
   "id": "dbc3fce3",
   "metadata": {},
   "outputs": [],
   "source": [
    "df[\"sub_grade\"] = df[\"sub_grade\"].replace(mapping_dict)"
   ]
  },
  {
   "cell_type": "markdown",
   "id": "769342ad",
   "metadata": {},
   "source": [
    "# home_ownership"
   ]
  },
  {
   "cell_type": "code",
   "execution_count": 262,
   "id": "21d5b175",
   "metadata": {},
   "outputs": [
    {
     "data": {
      "text/plain": [
       "MORTGAGE    170832\n",
       "RENT        133932\n",
       "OWN          31045\n",
       "OTHER           30\n",
       "NONE            28\n",
       "ANY              1\n",
       "Name: home_ownership, dtype: int64"
      ]
     },
     "execution_count": 262,
     "metadata": {},
     "output_type": "execute_result"
    }
   ],
   "source": [
    "df.home_ownership.value_counts()"
   ]
  },
  {
   "cell_type": "code",
   "execution_count": 263,
   "id": "9c2dfef1",
   "metadata": {},
   "outputs": [
    {
     "data": {
      "text/plain": [
       "Index(['MORTGAGE', 'RENT', 'OWN', 'OTHER', 'NONE', 'ANY'], dtype='object')"
      ]
     },
     "execution_count": 263,
     "metadata": {},
     "output_type": "execute_result"
    }
   ],
   "source": [
    "df.home_ownership.value_counts().index"
   ]
  },
  {
   "cell_type": "code",
   "execution_count": 264,
   "id": "1b1f65e4",
   "metadata": {},
   "outputs": [],
   "source": [
    "df.home_ownership.replace({\"NONE\":\"OTHER\",\n",
    "                          \"ANY\":\"OTHER\"},inplace=True)"
   ]
  },
  {
   "cell_type": "code",
   "execution_count": 265,
   "id": "9e589bdf",
   "metadata": {},
   "outputs": [
    {
     "data": {
      "text/html": [
       "<div>\n",
       "<style scoped>\n",
       "    .dataframe tbody tr th:only-of-type {\n",
       "        vertical-align: middle;\n",
       "    }\n",
       "\n",
       "    .dataframe tbody tr th {\n",
       "        vertical-align: top;\n",
       "    }\n",
       "\n",
       "    .dataframe thead th {\n",
       "        text-align: right;\n",
       "    }\n",
       "</style>\n",
       "<table border=\"1\" class=\"dataframe\">\n",
       "  <thead>\n",
       "    <tr style=\"text-align: right;\">\n",
       "      <th>home_ownership</th>\n",
       "      <th>MORTGAGE</th>\n",
       "      <th>OTHER</th>\n",
       "      <th>OWN</th>\n",
       "      <th>RENT</th>\n",
       "      <th>All</th>\n",
       "    </tr>\n",
       "    <tr>\n",
       "      <th>loan_status</th>\n",
       "      <th></th>\n",
       "      <th></th>\n",
       "      <th></th>\n",
       "      <th></th>\n",
       "      <th></th>\n",
       "    </tr>\n",
       "  </thead>\n",
       "  <tbody>\n",
       "    <tr>\n",
       "      <th>0</th>\n",
       "      <td>0.830219</td>\n",
       "      <td>0.779661</td>\n",
       "      <td>0.795845</td>\n",
       "      <td>0.76886</td>\n",
       "      <td>0.802565</td>\n",
       "    </tr>\n",
       "    <tr>\n",
       "      <th>1</th>\n",
       "      <td>0.169781</td>\n",
       "      <td>0.220339</td>\n",
       "      <td>0.204155</td>\n",
       "      <td>0.23114</td>\n",
       "      <td>0.197435</td>\n",
       "    </tr>\n",
       "  </tbody>\n",
       "</table>\n",
       "</div>"
      ],
      "text/plain": [
       "home_ownership  MORTGAGE     OTHER       OWN     RENT       All\n",
       "loan_status                                                    \n",
       "0               0.830219  0.779661  0.795845  0.76886  0.802565\n",
       "1               0.169781  0.220339  0.204155  0.23114  0.197435"
      ]
     },
     "execution_count": 265,
     "metadata": {},
     "output_type": "execute_result"
    }
   ],
   "source": [
    "pd.crosstab(columns=df[\"home_ownership\"],\n",
    "            index=df[\"loan_status\"], margins=True, normalize = \"columns\")"
   ]
  },
  {
   "cell_type": "code",
   "execution_count": 266,
   "id": "4cce22a7",
   "metadata": {},
   "outputs": [
    {
     "data": {
      "text/plain": [
       "home_ownership\n",
       "MORTGAGE    0.169781\n",
       "OTHER       0.220339\n",
       "OWN         0.204155\n",
       "RENT        0.231140\n",
       "All         0.197435\n",
       "Name: 1, dtype: float64"
      ]
     },
     "execution_count": 266,
     "metadata": {},
     "output_type": "execute_result"
    }
   ],
   "source": [
    "home_ownership_map = pd.crosstab(columns=df[\"home_ownership\"],\n",
    "            index=df[\"loan_status\"], margins=True, normalize = \"columns\").loc[1]\n",
    "home_ownership_map"
   ]
  },
  {
   "cell_type": "code",
   "execution_count": 267,
   "id": "9417a9a7",
   "metadata": {},
   "outputs": [],
   "source": [
    "home_ownership_map = home_ownership_map.to_dict()"
   ]
  },
  {
   "cell_type": "code",
   "execution_count": null,
   "id": "b6ee1b74",
   "metadata": {},
   "outputs": [],
   "source": []
  },
  {
   "cell_type": "code",
   "execution_count": 268,
   "id": "678ba6ec",
   "metadata": {},
   "outputs": [],
   "source": [
    "df[\"home_ownership\"] = df[\"home_ownership\"].replace(home_ownership_map)"
   ]
  },
  {
   "cell_type": "code",
   "execution_count": null,
   "id": "b4b7b1a6",
   "metadata": {},
   "outputs": [],
   "source": []
  },
  {
   "cell_type": "markdown",
   "id": "eef17404",
   "metadata": {},
   "source": [
    "# purpose_map"
   ]
  },
  {
   "cell_type": "code",
   "execution_count": 269,
   "id": "0c5442b2",
   "metadata": {},
   "outputs": [
    {
     "data": {
      "text/plain": [
       "purpose\n",
       "car                   0.140208\n",
       "credit_card           0.166309\n",
       "debt_consolidation    0.208164\n",
       "educational           0.000000\n",
       "home_improvement      0.171615\n",
       "house                 0.211325\n",
       "major_purchase        0.177792\n",
       "medical               0.220438\n",
       "moving                0.246556\n",
       "other                 0.217858\n",
       "renewable_energy      0.235556\n",
       "small_business        0.314689\n",
       "vacation              0.189673\n",
       "wedding               0.143165\n",
       "All                   0.197435\n",
       "Name: 1, dtype: float64"
      ]
     },
     "execution_count": 269,
     "metadata": {},
     "output_type": "execute_result"
    }
   ],
   "source": [
    "purpose_map = pd.crosstab(columns=df[\"purpose\"],\n",
    "            index=df[\"loan_status\"], margins=True, normalize = \"columns\").loc[1]\n",
    "purpose_map"
   ]
  },
  {
   "cell_type": "code",
   "execution_count": 270,
   "id": "58f079c8",
   "metadata": {},
   "outputs": [],
   "source": [
    "purpose_map = purpose_map.to_dict()"
   ]
  },
  {
   "cell_type": "code",
   "execution_count": 271,
   "id": "ccfadddb",
   "metadata": {},
   "outputs": [
    {
     "data": {
      "text/plain": [
       "{'car': 0.1402081977878985,\n",
       " 'credit_card': 0.16630877656645743,\n",
       " 'debt_consolidation': 0.20816406441192306,\n",
       " 'educational': 0.0,\n",
       " 'home_improvement': 0.17161480877934512,\n",
       " 'house': 0.21132516053706946,\n",
       " 'major_purchase': 0.17779173865242656,\n",
       " 'medical': 0.22043840691571473,\n",
       " 'moving': 0.2465564738292011,\n",
       " 'other': 0.21785846609855503,\n",
       " 'renewable_energy': 0.23555555555555555,\n",
       " 'small_business': 0.3146894318516338,\n",
       " 'vacation': 0.18967280163599182,\n",
       " 'wedding': 0.14316469321851452,\n",
       " 'All': 0.1974347064918361}"
      ]
     },
     "execution_count": 271,
     "metadata": {},
     "output_type": "execute_result"
    }
   ],
   "source": [
    "purpose_map"
   ]
  },
  {
   "cell_type": "code",
   "execution_count": 272,
   "id": "52d1d876",
   "metadata": {},
   "outputs": [],
   "source": [
    "df[\"purpose\"] = df[\"purpose\"].replace(purpose_map)"
   ]
  },
  {
   "cell_type": "code",
   "execution_count": null,
   "id": "3f623741",
   "metadata": {},
   "outputs": [],
   "source": []
  },
  {
   "cell_type": "markdown",
   "id": "1cae439b",
   "metadata": {},
   "source": [
    "# Zip code: "
   ]
  },
  {
   "cell_type": "code",
   "execution_count": 273,
   "id": "cdb07b28",
   "metadata": {},
   "outputs": [
    {
     "data": {
      "text/plain": [
       "Zip_Code\n",
       "00813    0.000000\n",
       "05113    0.000000\n",
       "11650    1.000000\n",
       "22690    0.194612\n",
       "29597    0.000000\n",
       "30723    0.196330\n",
       "48052    0.201458\n",
       "70466    0.196925\n",
       "86630    1.000000\n",
       "93700    1.000000\n",
       "All      0.197435\n",
       "Name: 1, dtype: float64"
      ]
     },
     "execution_count": 273,
     "metadata": {},
     "output_type": "execute_result"
    }
   ],
   "source": [
    "Zip_Code_map = pd.crosstab(columns=df[\"Zip_Code\"],\n",
    "            index=df[\"loan_status\"], margins=True, normalize = \"columns\").loc[1]\n",
    "Zip_Code_map"
   ]
  },
  {
   "cell_type": "code",
   "execution_count": 274,
   "id": "ab6d6a09",
   "metadata": {},
   "outputs": [
    {
     "data": {
      "text/plain": [
       "{'00813': 0.0,\n",
       " '05113': 0.0,\n",
       " '11650': 1.0,\n",
       " '22690': 0.19461165454393445,\n",
       " '29597': 0.0,\n",
       " '30723': 0.1963303898700433,\n",
       " '48052': 0.2014581006763733,\n",
       " '70466': 0.1969254960379037,\n",
       " '86630': 1.0,\n",
       " '93700': 1.0,\n",
       " 'All': 0.1974347064918361}"
      ]
     },
     "execution_count": 274,
     "metadata": {},
     "output_type": "execute_result"
    }
   ],
   "source": [
    "Zip_Code_map = Zip_Code_map.to_dict()\n",
    "Zip_Code_map"
   ]
  },
  {
   "cell_type": "code",
   "execution_count": 275,
   "id": "17efaa28",
   "metadata": {},
   "outputs": [],
   "source": [
    "df[\"Zip_Code\"] = df[\"Zip_Code\"].replace(Zip_Code_map)"
   ]
  },
  {
   "cell_type": "markdown",
   "id": "3320a928",
   "metadata": {},
   "source": [
    "# application_type"
   ]
  },
  {
   "cell_type": "code",
   "execution_count": 276,
   "id": "3c8fcc34",
   "metadata": {},
   "outputs": [
    {
     "data": {
      "text/plain": [
       "application_type\n",
       "DIRECT_PAY    0.326531\n",
       "INDIVIDUAL    0.197431\n",
       "JOINT         0.099678\n",
       "All           0.197435\n",
       "Name: 1, dtype: float64"
      ]
     },
     "execution_count": 276,
     "metadata": {},
     "output_type": "execute_result"
    }
   ],
   "source": [
    "application_type_map = pd.crosstab(columns=df[\"application_type\"],\n",
    "            index=df[\"loan_status\"], margins=True, normalize = \"columns\").loc[1]\n",
    "application_type_map"
   ]
  },
  {
   "cell_type": "code",
   "execution_count": 277,
   "id": "7283eb42",
   "metadata": {},
   "outputs": [
    {
     "data": {
      "text/plain": [
       "{'DIRECT_PAY': 0.32653061224489793,\n",
       " 'INDIVIDUAL': 0.1974310492914062,\n",
       " 'JOINT': 0.09967845659163987,\n",
       " 'All': 0.1974347064918361}"
      ]
     },
     "execution_count": 277,
     "metadata": {},
     "output_type": "execute_result"
    }
   ],
   "source": [
    "application_type_map = application_type_map.to_dict()\n",
    "application_type_map"
   ]
  },
  {
   "cell_type": "code",
   "execution_count": 278,
   "id": "d6125960",
   "metadata": {},
   "outputs": [],
   "source": [
    "df[\"application_type\"] = df[\"application_type\"].replace(application_type_map)"
   ]
  },
  {
   "cell_type": "code",
   "execution_count": null,
   "id": "7ddc6535",
   "metadata": {},
   "outputs": [],
   "source": []
  },
  {
   "cell_type": "code",
   "execution_count": null,
   "id": "d2aa3642",
   "metadata": {},
   "outputs": [],
   "source": []
  },
  {
   "cell_type": "code",
   "execution_count": null,
   "id": "9b1c4810",
   "metadata": {},
   "outputs": [],
   "source": []
  },
  {
   "cell_type": "code",
   "execution_count": null,
   "id": "f6a2a079",
   "metadata": {},
   "outputs": [],
   "source": []
  },
  {
   "cell_type": "code",
   "execution_count": null,
   "id": "38913b87",
   "metadata": {},
   "outputs": [],
   "source": []
  },
  {
   "cell_type": "code",
   "execution_count": null,
   "id": "285cb9c2",
   "metadata": {},
   "outputs": [],
   "source": []
  },
  {
   "cell_type": "code",
   "execution_count": null,
   "id": "0c7a6c13",
   "metadata": {},
   "outputs": [],
   "source": []
  },
  {
   "cell_type": "code",
   "execution_count": null,
   "id": "bafe6ced",
   "metadata": {},
   "outputs": [],
   "source": []
  },
  {
   "cell_type": "code",
   "execution_count": null,
   "id": "9a745252",
   "metadata": {},
   "outputs": [],
   "source": []
  },
  {
   "cell_type": "code",
   "execution_count": 279,
   "id": "1aadcc30",
   "metadata": {},
   "outputs": [
    {
     "data": {
      "text/html": [
       "<div>\n",
       "<style scoped>\n",
       "    .dataframe tbody tr th:only-of-type {\n",
       "        vertical-align: middle;\n",
       "    }\n",
       "\n",
       "    .dataframe tbody tr th {\n",
       "        vertical-align: top;\n",
       "    }\n",
       "\n",
       "    .dataframe thead th {\n",
       "        text-align: right;\n",
       "    }\n",
       "</style>\n",
       "<table border=\"1\" class=\"dataframe\">\n",
       "  <thead>\n",
       "    <tr style=\"text-align: right;\">\n",
       "      <th></th>\n",
       "      <th>loan_amnt</th>\n",
       "      <th>term</th>\n",
       "      <th>int_rate</th>\n",
       "      <th>installment</th>\n",
       "      <th>grade</th>\n",
       "      <th>sub_grade</th>\n",
       "      <th>home_ownership</th>\n",
       "      <th>annual_inc</th>\n",
       "      <th>loan_status</th>\n",
       "      <th>purpose</th>\n",
       "      <th>dti</th>\n",
       "      <th>open_acc</th>\n",
       "      <th>pub_rec</th>\n",
       "      <th>revol_bal</th>\n",
       "      <th>revol_util</th>\n",
       "      <th>total_acc</th>\n",
       "      <th>application_type</th>\n",
       "      <th>mort_acc</th>\n",
       "      <th>pub_rec_bankruptcies</th>\n",
       "      <th>Zip_Code</th>\n",
       "    </tr>\n",
       "  </thead>\n",
       "  <tbody>\n",
       "    <tr>\n",
       "      <th>0</th>\n",
       "      <td>10000.0</td>\n",
       "      <td>0</td>\n",
       "      <td>11.44</td>\n",
       "      <td>329.48</td>\n",
       "      <td>1</td>\n",
       "      <td>8</td>\n",
       "      <td>0.231140</td>\n",
       "      <td>117000.0</td>\n",
       "      <td>0</td>\n",
       "      <td>0.189673</td>\n",
       "      <td>26.24</td>\n",
       "      <td>16.0</td>\n",
       "      <td>0.0</td>\n",
       "      <td>36369.0</td>\n",
       "      <td>41.8</td>\n",
       "      <td>25.0</td>\n",
       "      <td>0.197431</td>\n",
       "      <td>0.0</td>\n",
       "      <td>0.0</td>\n",
       "      <td>0.194612</td>\n",
       "    </tr>\n",
       "    <tr>\n",
       "      <th>1</th>\n",
       "      <td>8000.0</td>\n",
       "      <td>0</td>\n",
       "      <td>11.99</td>\n",
       "      <td>265.68</td>\n",
       "      <td>1</td>\n",
       "      <td>9</td>\n",
       "      <td>0.169781</td>\n",
       "      <td>65000.0</td>\n",
       "      <td>0</td>\n",
       "      <td>0.208164</td>\n",
       "      <td>22.05</td>\n",
       "      <td>17.0</td>\n",
       "      <td>0.0</td>\n",
       "      <td>20131.0</td>\n",
       "      <td>53.3</td>\n",
       "      <td>27.0</td>\n",
       "      <td>0.197431</td>\n",
       "      <td>3.0</td>\n",
       "      <td>0.0</td>\n",
       "      <td>0.000000</td>\n",
       "    </tr>\n",
       "    <tr>\n",
       "      <th>2</th>\n",
       "      <td>15600.0</td>\n",
       "      <td>0</td>\n",
       "      <td>10.49</td>\n",
       "      <td>506.97</td>\n",
       "      <td>1</td>\n",
       "      <td>7</td>\n",
       "      <td>0.231140</td>\n",
       "      <td>43057.0</td>\n",
       "      <td>0</td>\n",
       "      <td>0.166309</td>\n",
       "      <td>12.79</td>\n",
       "      <td>13.0</td>\n",
       "      <td>0.0</td>\n",
       "      <td>11987.0</td>\n",
       "      <td>92.2</td>\n",
       "      <td>26.0</td>\n",
       "      <td>0.197431</td>\n",
       "      <td>0.0</td>\n",
       "      <td>0.0</td>\n",
       "      <td>0.000000</td>\n",
       "    </tr>\n",
       "    <tr>\n",
       "      <th>3</th>\n",
       "      <td>7200.0</td>\n",
       "      <td>0</td>\n",
       "      <td>6.49</td>\n",
       "      <td>220.65</td>\n",
       "      <td>0</td>\n",
       "      <td>1</td>\n",
       "      <td>0.231140</td>\n",
       "      <td>54000.0</td>\n",
       "      <td>0</td>\n",
       "      <td>0.166309</td>\n",
       "      <td>2.60</td>\n",
       "      <td>6.0</td>\n",
       "      <td>0.0</td>\n",
       "      <td>5472.0</td>\n",
       "      <td>21.5</td>\n",
       "      <td>13.0</td>\n",
       "      <td>0.197431</td>\n",
       "      <td>0.0</td>\n",
       "      <td>0.0</td>\n",
       "      <td>0.000000</td>\n",
       "    </tr>\n",
       "    <tr>\n",
       "      <th>4</th>\n",
       "      <td>24375.0</td>\n",
       "      <td>1</td>\n",
       "      <td>17.27</td>\n",
       "      <td>609.33</td>\n",
       "      <td>2</td>\n",
       "      <td>14</td>\n",
       "      <td>0.169781</td>\n",
       "      <td>55000.0</td>\n",
       "      <td>1</td>\n",
       "      <td>0.166309</td>\n",
       "      <td>33.95</td>\n",
       "      <td>13.0</td>\n",
       "      <td>0.0</td>\n",
       "      <td>24584.0</td>\n",
       "      <td>69.8</td>\n",
       "      <td>43.0</td>\n",
       "      <td>0.197431</td>\n",
       "      <td>1.0</td>\n",
       "      <td>0.0</td>\n",
       "      <td>1.000000</td>\n",
       "    </tr>\n",
       "    <tr>\n",
       "      <th>...</th>\n",
       "      <td>...</td>\n",
       "      <td>...</td>\n",
       "      <td>...</td>\n",
       "      <td>...</td>\n",
       "      <td>...</td>\n",
       "      <td>...</td>\n",
       "      <td>...</td>\n",
       "      <td>...</td>\n",
       "      <td>...</td>\n",
       "      <td>...</td>\n",
       "      <td>...</td>\n",
       "      <td>...</td>\n",
       "      <td>...</td>\n",
       "      <td>...</td>\n",
       "      <td>...</td>\n",
       "      <td>...</td>\n",
       "      <td>...</td>\n",
       "      <td>...</td>\n",
       "      <td>...</td>\n",
       "      <td>...</td>\n",
       "    </tr>\n",
       "    <tr>\n",
       "      <th>396024</th>\n",
       "      <td>6000.0</td>\n",
       "      <td>0</td>\n",
       "      <td>13.11</td>\n",
       "      <td>202.49</td>\n",
       "      <td>1</td>\n",
       "      <td>8</td>\n",
       "      <td>0.231140</td>\n",
       "      <td>64000.0</td>\n",
       "      <td>0</td>\n",
       "      <td>0.208164</td>\n",
       "      <td>10.81</td>\n",
       "      <td>7.0</td>\n",
       "      <td>0.0</td>\n",
       "      <td>11456.0</td>\n",
       "      <td>97.1</td>\n",
       "      <td>9.0</td>\n",
       "      <td>0.197431</td>\n",
       "      <td>0.0</td>\n",
       "      <td>0.0</td>\n",
       "      <td>0.000000</td>\n",
       "    </tr>\n",
       "    <tr>\n",
       "      <th>396025</th>\n",
       "      <td>10000.0</td>\n",
       "      <td>1</td>\n",
       "      <td>10.99</td>\n",
       "      <td>217.38</td>\n",
       "      <td>1</td>\n",
       "      <td>8</td>\n",
       "      <td>0.231140</td>\n",
       "      <td>40000.0</td>\n",
       "      <td>0</td>\n",
       "      <td>0.208164</td>\n",
       "      <td>15.63</td>\n",
       "      <td>6.0</td>\n",
       "      <td>0.0</td>\n",
       "      <td>1990.0</td>\n",
       "      <td>34.3</td>\n",
       "      <td>23.0</td>\n",
       "      <td>0.197431</td>\n",
       "      <td>0.0</td>\n",
       "      <td>0.0</td>\n",
       "      <td>0.196330</td>\n",
       "    </tr>\n",
       "    <tr>\n",
       "      <th>396026</th>\n",
       "      <td>21000.0</td>\n",
       "      <td>0</td>\n",
       "      <td>12.29</td>\n",
       "      <td>700.42</td>\n",
       "      <td>2</td>\n",
       "      <td>10</td>\n",
       "      <td>0.169781</td>\n",
       "      <td>110000.0</td>\n",
       "      <td>0</td>\n",
       "      <td>0.208164</td>\n",
       "      <td>21.45</td>\n",
       "      <td>6.0</td>\n",
       "      <td>0.0</td>\n",
       "      <td>43263.0</td>\n",
       "      <td>95.7</td>\n",
       "      <td>8.0</td>\n",
       "      <td>0.197431</td>\n",
       "      <td>1.0</td>\n",
       "      <td>0.0</td>\n",
       "      <td>0.000000</td>\n",
       "    </tr>\n",
       "    <tr>\n",
       "      <th>396027</th>\n",
       "      <td>5000.0</td>\n",
       "      <td>0</td>\n",
       "      <td>9.99</td>\n",
       "      <td>161.32</td>\n",
       "      <td>1</td>\n",
       "      <td>5</td>\n",
       "      <td>0.231140</td>\n",
       "      <td>56500.0</td>\n",
       "      <td>0</td>\n",
       "      <td>0.208164</td>\n",
       "      <td>17.56</td>\n",
       "      <td>15.0</td>\n",
       "      <td>0.0</td>\n",
       "      <td>32704.0</td>\n",
       "      <td>66.9</td>\n",
       "      <td>23.0</td>\n",
       "      <td>0.197431</td>\n",
       "      <td>0.0</td>\n",
       "      <td>0.0</td>\n",
       "      <td>0.196925</td>\n",
       "    </tr>\n",
       "    <tr>\n",
       "      <th>396028</th>\n",
       "      <td>21000.0</td>\n",
       "      <td>1</td>\n",
       "      <td>15.31</td>\n",
       "      <td>503.02</td>\n",
       "      <td>2</td>\n",
       "      <td>11</td>\n",
       "      <td>0.169781</td>\n",
       "      <td>64000.0</td>\n",
       "      <td>0</td>\n",
       "      <td>0.208164</td>\n",
       "      <td>15.88</td>\n",
       "      <td>9.0</td>\n",
       "      <td>0.0</td>\n",
       "      <td>15704.0</td>\n",
       "      <td>53.8</td>\n",
       "      <td>20.0</td>\n",
       "      <td>0.197431</td>\n",
       "      <td>5.0</td>\n",
       "      <td>0.0</td>\n",
       "      <td>0.000000</td>\n",
       "    </tr>\n",
       "  </tbody>\n",
       "</table>\n",
       "<p>335868 rows × 20 columns</p>\n",
       "</div>"
      ],
      "text/plain": [
       "        loan_amnt  term  int_rate  installment  grade  sub_grade  home_ownership  annual_inc  loan_status   purpose    dti  open_acc  pub_rec  revol_bal  revol_util  total_acc  application_type  mort_acc  pub_rec_bankruptcies  Zip_Code\n",
       "0         10000.0     0     11.44       329.48      1          8        0.231140    117000.0            0  0.189673  26.24      16.0      0.0    36369.0        41.8       25.0          0.197431       0.0                   0.0  0.194612\n",
       "1          8000.0     0     11.99       265.68      1          9        0.169781     65000.0            0  0.208164  22.05      17.0      0.0    20131.0        53.3       27.0          0.197431       3.0                   0.0  0.000000\n",
       "2         15600.0     0     10.49       506.97      1          7        0.231140     43057.0            0  0.166309  12.79      13.0      0.0    11987.0        92.2       26.0          0.197431       0.0                   0.0  0.000000\n",
       "3          7200.0     0      6.49       220.65      0          1        0.231140     54000.0            0  0.166309   2.60       6.0      0.0     5472.0        21.5       13.0          0.197431       0.0                   0.0  0.000000\n",
       "4         24375.0     1     17.27       609.33      2         14        0.169781     55000.0            1  0.166309  33.95      13.0      0.0    24584.0        69.8       43.0          0.197431       1.0                   0.0  1.000000\n",
       "...           ...   ...       ...          ...    ...        ...             ...         ...          ...       ...    ...       ...      ...        ...         ...        ...               ...       ...                   ...       ...\n",
       "396024     6000.0     0     13.11       202.49      1          8        0.231140     64000.0            0  0.208164  10.81       7.0      0.0    11456.0        97.1        9.0          0.197431       0.0                   0.0  0.000000\n",
       "396025    10000.0     1     10.99       217.38      1          8        0.231140     40000.0            0  0.208164  15.63       6.0      0.0     1990.0        34.3       23.0          0.197431       0.0                   0.0  0.196330\n",
       "396026    21000.0     0     12.29       700.42      2         10        0.169781    110000.0            0  0.208164  21.45       6.0      0.0    43263.0        95.7        8.0          0.197431       1.0                   0.0  0.000000\n",
       "396027     5000.0     0      9.99       161.32      1          5        0.231140     56500.0            0  0.208164  17.56      15.0      0.0    32704.0        66.9       23.0          0.197431       0.0                   0.0  0.196925\n",
       "396028    21000.0     1     15.31       503.02      2         11        0.169781     64000.0            0  0.208164  15.88       9.0      0.0    15704.0        53.8       20.0          0.197431       5.0                   0.0  0.000000\n",
       "\n",
       "[335868 rows x 20 columns]"
      ]
     },
     "execution_count": 279,
     "metadata": {},
     "output_type": "execute_result"
    }
   ],
   "source": [
    "df"
   ]
  },
  {
   "cell_type": "code",
   "execution_count": null,
   "id": "98e6e987",
   "metadata": {},
   "outputs": [],
   "source": []
  },
  {
   "cell_type": "code",
   "execution_count": 280,
   "id": "f11f59f5",
   "metadata": {
    "scrolled": false
   },
   "outputs": [
    {
     "data": {
      "text/plain": [
       "20"
      ]
     },
     "execution_count": 280,
     "metadata": {},
     "output_type": "execute_result"
    }
   ],
   "source": [
    "num_cols = ['loan_amnt', 'int_rate', 'annual_inc',  'dti', 'open_acc', 'revol_bal', 'revol_util', 'total_acc', 'mort_acc' ]\n",
    "removed_ooutlier = df.copy()\n",
    "for col in num_cols:\n",
    "    mean = removed_ooutlier[col].mean()\n",
    "    std = removed_ooutlier[col].std()\n",
    "    upper_limit = mean+3*std\n",
    "    lower_limit = mean-3*std\n",
    "    removed_ooutlier = removed_ooutlier[(removed_ooutlier[col]<upper_limit) & (removed_ooutlier[col]>lower_limit)]\n",
    "removed_ooutlier.shape\n",
    "numerical_data = removed_ooutlier.select_dtypes(include='number')\n",
    "numerical_data\n",
    "\n",
    "num_cols = numerical_data.columns\n",
    "len(num_cols)\n"
   ]
  },
  {
   "cell_type": "code",
   "execution_count": 284,
   "id": "53f7b5b8",
   "metadata": {
    "scrolled": false
   },
   "outputs": [
    {
     "data": {
      "image/png": "[encoded data removed]",
      "text/plain": [
       "<Figure size 576x360 with 1 Axes>"
      ]
     },
     "metadata": {
      "needs_background": "light"
     },
     "output_type": "display_data"
    },
    {
     "data": {
      "image/png": "[encoded data removed]",
      "text/plain": [
       "<Figure size 576x360 with 1 Axes>"
      ]
     },
     "metadata": {
      "needs_background": "light"
     },
     "output_type": "display_data"
    },
    {
     "data": {
      "image/png": "[encoded data removed]",
      "text/plain": [
       "<Figure size 576x360 with 1 Axes>"
      ]
     },
     "metadata": {
      "needs_background": "light"
     },
     "output_type": "display_data"
    },
    {
     "data": {
      "image/png": "[encoded data removed]",
      "text/plain": [
       "<Figure size 576x360 with 1 Axes>"
      ]
     },
     "metadata": {
      "needs_background": "light"
     },
     "output_type": "display_data"
    },
    {
     "data": {
      "image/png": "[encoded data removed]",
      "text/plain": [
       "<Figure size 576x360 with 1 Axes>"
      ]
     },
     "metadata": {
      "needs_background": "light"
     },
     "output_type": "display_data"
    },
    {
     "data": {
      "image/png": "[encoded data removed]",
      "text/plain": [
       "<Figure size 576x360 with 1 Axes>"
      ]
     },
     "metadata": {
      "needs_background": "light"
     },
     "output_type": "display_data"
    },
    {
     "data": {
      "image/png": "[encoded data removed]",
      "text/plain": [
       "<Figure size 576x360 with 1 Axes>"
      ]
     },
     "metadata": {
      "needs_background": "light"
     },
     "output_type": "display_data"
    },
    {
     "data": {
      "image/png": "[encoded data removed]",
      "text/plain": [
       "<Figure size 576x360 with 1 Axes>"
      ]
     },
     "metadata": {
      "needs_background": "light"
     },
     "output_type": "display_data"
    },
    {
     "data": {
      "image/png": "[encoded data removed]",
      "text/plain": [
       "<Figure size 576x360 with 1 Axes>"
      ]
     },
     "metadata": {
      "needs_background": "light"
     },
     "output_type": "display_data"
    },
    {
     "data": {
      "image/png": "[encoded data removed]",
      "text/plain": [
       "<Figure size 576x360 with 1 Axes>"
      ]
     },
     "metadata": {
      "needs_background": "light"
     },
     "output_type": "display_data"
    },
    {
     "data": {
      "image/png": "[encoded data removed]",
      "text/plain": [
       "<Figure size 576x360 with 1 Axes>"
      ]
     },
     "metadata": {
      "needs_background": "light"
     },
     "output_type": "display_data"
    },
    {
     "data": {
      "image/png": "[encoded data removed]",
      "text/plain": [
       "<Figure size 576x360 with 1 Axes>"
      ]
     },
     "metadata": {
      "needs_background": "light"
     },
     "output_type": "display_data"
    },
    {
     "data": {
      "image/png": "[encoded data removed]",
      "text/plain": [
       "<Figure size 576x360 with 1 Axes>"
      ]
     },
     "metadata": {
      "needs_background": "light"
     },
     "output_type": "display_data"
    },
    {
     "data": {
      "image/png": "[encoded data removed]",
      "text/plain": [
       "<Figure size 576x360 with 1 Axes>"
      ]
     },
     "metadata": {
      "needs_background": "light"
     },
     "output_type": "display_data"
    },
    {
     "data": {
      "image/png": "[encoded data removed]",
      "text/plain": [
       "<Figure size 576x360 with 1 Axes>"
      ]
     },
     "metadata": {
      "needs_background": "light"
     },
     "output_type": "display_data"
    },
    {
     "data": {
      "image/png": "[encoded data removed]",
      "text/plain": [
       "<Figure size 576x360 with 1 Axes>"
      ]
     },
     "metadata": {
      "needs_background": "light"
     },
     "output_type": "display_data"
    },
    {
     "data": {
      "image/png": "[encoded data removed]",
      "text/plain": [
       "<Figure size 576x360 with 1 Axes>"
      ]
     },
     "metadata": {
      "needs_background": "light"
     },
     "output_type": "display_data"
    },
    {
     "data": {
      "image/png": "[encoded data removed]",
      "text/plain": [
       "<Figure size 576x360 with 1 Axes>"
      ]
     },
     "metadata": {
      "needs_background": "light"
     },
     "output_type": "display_data"
    },
    {
     "data": {
      "image/png": "[encoded data removed]",
      "text/plain": [
       "<Figure size 576x360 with 1 Axes>"
      ]
     },
     "metadata": {
      "needs_background": "light"
     },
     "output_type": "display_data"
    },
    {
     "data": {
      "image/png": "[encoded data removed]",
      "text/plain": [
       "<Figure size 576x360 with 1 Axes>"
      ]
     },
     "metadata": {
      "needs_background": "light"
     },
     "output_type": "display_data"
    }
   ],
   "source": [
    "def box_plot(col):\n",
    "    plt.figure(figsize=(8, 5))\n",
    "    sns.boxplot(x=removed_ooutlier[col])\n",
    "    plt.title('Boxplot')\n",
    "    plt.show()\n",
    "\n",
    "for col in num_cols:\n",
    "    box_plot(col)\n"
   ]
  },
  {
   "cell_type": "code",
   "execution_count": 281,
   "id": "2e36805f",
   "metadata": {},
   "outputs": [],
   "source": [
    "df = removed_ooutlier.copy()"
   ]
  },
  {
   "cell_type": "code",
   "execution_count": 282,
   "id": "22f62a79",
   "metadata": {},
   "outputs": [],
   "source": [
    "def pub_rec(number):\n",
    "    if number == 0.0:\n",
    "        return 0\n",
    "    else:\n",
    "        return 1\n",
    "\n",
    "def mort_acc(number):\n",
    "    if number == 0.0:\n",
    "        return 0\n",
    "    elif number >= 1.0:\n",
    "        return 1\n",
    "    else:\n",
    "        return number\n",
    "\n",
    "def pub_rec_bankruptcies(number):\n",
    "    if number == 0.0:\n",
    "        return 0\n",
    "    elif number >= 1.0:\n",
    "        return 1\n",
    "    else:\n",
    "        return number\n",
    "df['pub_rec'] = df.pub_rec.apply(pub_rec)\n",
    "\n",
    "df['mort_acc'] = df.mort_acc.apply(mort_acc)\n",
    "df['pub_rec_bankruptcies'] = df.pub_rec_bankruptcies.apply(pub_rec_bankruptcies)"
   ]
  },
  {
   "cell_type": "code",
   "execution_count": null,
   "id": "76e72e14",
   "metadata": {},
   "outputs": [],
   "source": []
  },
  {
   "cell_type": "code",
   "execution_count": null,
   "id": "ab4c0bed",
   "metadata": {},
   "outputs": [],
   "source": []
  },
  {
   "cell_type": "code",
   "execution_count": null,
   "id": "52967c03",
   "metadata": {},
   "outputs": [],
   "source": []
  },
  {
   "cell_type": "code",
   "execution_count": null,
   "id": "aad47c7b",
   "metadata": {},
   "outputs": [],
   "source": []
  },
  {
   "cell_type": "code",
   "execution_count": null,
   "id": "c83cf776",
   "metadata": {},
   "outputs": [],
   "source": []
  },
  {
   "cell_type": "markdown",
   "id": "b1e041b2",
   "metadata": {},
   "source": [
    "# LocalOutlierFactor"
   ]
  },
  {
   "cell_type": "code",
   "execution_count": 283,
   "id": "c1e90841",
   "metadata": {
    "scrolled": true
   },
   "outputs": [],
   "source": [
    "from sklearn.neighbors import LocalOutlierFactor\n",
    "\n",
    "\n",
    "# Create LOF object\n",
    "lof = LocalOutlierFactor(n_neighbors=15, contamination=0.10)\n",
    "\n",
    "# Fit LOF object to data\n",
    "y_pred = lof.fit_predict(df)\n"
   ]
  },
  {
   "cell_type": "code",
   "execution_count": 98,
   "id": "0afdbf82",
   "metadata": {},
   "outputs": [],
   "source": [
    "MAP = pd.Series(y_pred)\n",
    "MAP= MAP.map({-1: False, 1: True})\n",
    "data = df.loc[MAP.values]\n"
   ]
  },
  {
   "cell_type": "code",
   "execution_count": 99,
   "id": "db0f689e",
   "metadata": {},
   "outputs": [],
   "source": [
    "X = data.drop(\"loan_status\",axis = 1)\n",
    "y = data[\"loan_status\"]\n"
   ]
  },
  {
   "cell_type": "code",
   "execution_count": 285,
   "id": "9c3c676b",
   "metadata": {},
   "outputs": [
    {
     "data": {
      "text/plain": [
       "0    0.802005\n",
       "1    0.197995\n",
       "Name: loan_status, dtype: float64"
      ]
     },
     "execution_count": 285,
     "metadata": {},
     "output_type": "execute_result"
    }
   ],
   "source": [
    "y.value_counts(normalize=True)"
   ]
  },
  {
   "cell_type": "markdown",
   "id": "bf9e6178",
   "metadata": {},
   "source": [
    "# train_test_split"
   ]
  },
  {
   "cell_type": "code",
   "execution_count": 286,
   "id": "5ccb1d75",
   "metadata": {},
   "outputs": [],
   "source": [
    "from sklearn.model_selection import train_test_split\n",
    "\n",
    "X_train , X_test,  y_train , y_test = train_test_split(X,\n",
    "                                                      y,\n",
    "                                                      test_size=0.2,\n",
    "                                                      random_state=45)"
   ]
  },
  {
   "cell_type": "markdown",
   "id": "2a4f2f49",
   "metadata": {},
   "source": [
    "# StandardScaler"
   ]
  },
  {
   "cell_type": "code",
   "execution_count": 287,
   "id": "f156015f",
   "metadata": {},
   "outputs": [],
   "source": [
    "from sklearn.preprocessing import StandardScaler\n",
    "scaler = StandardScaler()\n",
    "\n",
    "scaler.fit(X_train)\n",
    "\n",
    "X_train = scaler.transform(X_train)\n",
    "X_test = scaler.transform(X_test)"
   ]
  },
  {
   "cell_type": "markdown",
   "id": "fa532350",
   "metadata": {},
   "source": [
    "# SMOTE"
   ]
  },
  {
   "cell_type": "code",
   "execution_count": 288,
   "id": "bdb4b3ea",
   "metadata": {},
   "outputs": [],
   "source": [
    "# X_train,y_train"
   ]
  },
  {
   "cell_type": "code",
   "execution_count": 289,
   "id": "78a78aa3",
   "metadata": {},
   "outputs": [],
   "source": [
    "from imblearn.over_sampling import SMOTE\n",
    "\n",
    "# Define SMOTE object\n",
    "sm = SMOTE(k_neighbors = 11,random_state=42)\n",
    "\n",
    "# Apply SMOTE to X_train and y_train\n",
    "X_smote, y_smote = sm.fit_resample(X_train, y_train)"
   ]
  },
  {
   "cell_type": "code",
   "execution_count": 290,
   "id": "55e34a26",
   "metadata": {},
   "outputs": [
    {
     "data": {
      "text/plain": [
       "1    183219\n",
       "0    183219\n",
       "Name: loan_status, dtype: int64"
      ]
     },
     "execution_count": 290,
     "metadata": {},
     "output_type": "execute_result"
    }
   ],
   "source": [
    "y_smote.value_counts()"
   ]
  },
  {
   "cell_type": "code",
   "execution_count": 291,
   "id": "e7aee37e",
   "metadata": {},
   "outputs": [],
   "source": [
    "from sklearn.metrics import precision_score, recall_score, fbeta_score,confusion_matrix,ConfusionMatrixDisplay"
   ]
  },
  {
   "cell_type": "markdown",
   "id": "5af8032d",
   "metadata": {},
   "source": [
    "# DecisionTreeClassifier"
   ]
  },
  {
   "cell_type": "code",
   "execution_count": 292,
   "id": "68d3684c",
   "metadata": {},
   "outputs": [],
   "source": [
    "from sklearn.tree import DecisionTreeClassifier\n"
   ]
  },
  {
   "cell_type": "code",
   "execution_count": 312,
   "id": "5b76f2ed",
   "metadata": {},
   "outputs": [
    {
     "data": {
      "text/html": [
       "<style>#sk-container-id-7 {color: black;background-color: white;}#sk-container-id-7 pre{padding: 0;}#sk-container-id-7 div.sk-toggleable {background-color: white;}#sk-container-id-7 label.sk-toggleable__label {cursor: pointer;display: block;width: 100%;margin-bottom: 0;padding: 0.3em;box-sizing: border-box;text-align: center;}#sk-container-id-7 label.sk-toggleable__label-arrow:before {content: \"▸\";float: left;margin-right: 0.25em;color: #696969;}#sk-container-id-7 label.sk-toggleable__label-arrow:hover:before {color: black;}#sk-container-id-7 div.sk-estimator:hover label.sk-toggleable__label-arrow:before {color: black;}#sk-container-id-7 div.sk-toggleable__content {max-height: 0;max-width: 0;overflow: hidden;text-align: left;background-color: #f0f8ff;}#sk-container-id-7 div.sk-toggleable__content pre {margin: 0.2em;color: black;border-radius: 0.25em;background-color: #f0f8ff;}#sk-container-id-7 input.sk-toggleable__control:checked~div.sk-toggleable__content {max-height: 200px;max-width: 100%;overflow: auto;}#sk-container-id-7 input.sk-toggleable__control:checked~label.sk-toggleable__label-arrow:before {content: \"▾\";}#sk-container-id-7 div.sk-estimator input.sk-toggleable__control:checked~label.sk-toggleable__label {background-color: #d4ebff;}#sk-container-id-7 div.sk-label input.sk-toggleable__control:checked~label.sk-toggleable__label {background-color: #d4ebff;}#sk-container-id-7 input.sk-hidden--visually {border: 0;clip: rect(1px 1px 1px 1px);clip: rect(1px, 1px, 1px, 1px);height: 1px;margin: -1px;overflow: hidden;padding: 0;position: absolute;width: 1px;}#sk-container-id-7 div.sk-estimator {font-family: monospace;background-color: #f0f8ff;border: 1px dotted black;border-radius: 0.25em;box-sizing: border-box;margin-bottom: 0.5em;}#sk-container-id-7 div.sk-estimator:hover {background-color: #d4ebff;}#sk-container-id-7 div.sk-parallel-item::after {content: \"\";width: 100%;border-bottom: 1px solid gray;flex-grow: 1;}#sk-container-id-7 div.sk-label:hover label.sk-toggleable__label {background-color: #d4ebff;}#sk-container-id-7 div.sk-serial::before {content: \"\";position: absolute;border-left: 1px solid gray;box-sizing: border-box;top: 0;bottom: 0;left: 50%;z-index: 0;}#sk-container-id-7 div.sk-serial {display: flex;flex-direction: column;align-items: center;background-color: white;padding-right: 0.2em;padding-left: 0.2em;position: relative;}#sk-container-id-7 div.sk-item {position: relative;z-index: 1;}#sk-container-id-7 div.sk-parallel {display: flex;align-items: stretch;justify-content: center;background-color: white;position: relative;}#sk-container-id-7 div.sk-item::before, #sk-container-id-7 div.sk-parallel-item::before {content: \"\";position: absolute;border-left: 1px solid gray;box-sizing: border-box;top: 0;bottom: 0;left: 50%;z-index: -1;}#sk-container-id-7 div.sk-parallel-item {display: flex;flex-direction: column;z-index: 1;position: relative;background-color: white;}#sk-container-id-7 div.sk-parallel-item:first-child::after {align-self: flex-end;width: 50%;}#sk-container-id-7 div.sk-parallel-item:last-child::after {align-self: flex-start;width: 50%;}#sk-container-id-7 div.sk-parallel-item:only-child::after {width: 0;}#sk-container-id-7 div.sk-dashed-wrapped {border: 1px dashed gray;margin: 0 0.4em 0.5em 0.4em;box-sizing: border-box;padding-bottom: 0.4em;background-color: white;}#sk-container-id-7 div.sk-label label {font-family: monospace;font-weight: bold;display: inline-block;line-height: 1.2em;}#sk-container-id-7 div.sk-label-container {text-align: center;}#sk-container-id-7 div.sk-container {/* jupyter's `normalize.less` sets `[hidden] { display: none; }` but bootstrap.min.css set `[hidden] { display: none !important; }` so we also need the `!important` here to be able to override the default hidden behavior on the sphinx rendered scikit-learn.org. See: https://github.com/scikit-learn/scikit-learn/issues/21755 */display: inline-block !important;position: relative;}#sk-container-id-7 div.sk-text-repr-fallback {display: none;}</style><div id=\"sk-container-id-7\" class=\"sk-top-container\"><div class=\"sk-text-repr-fallback\"><pre>DecisionTreeClassifier(max_depth=7)</pre><b>In a Jupyter environment, please rerun this cell to show the HTML representation or trust the notebook. <br />On GitHub, the HTML representation is unable to render, please try loading this page with nbviewer.org.</b></div><div class=\"sk-container\" hidden><div class=\"sk-item\"><div class=\"sk-estimator sk-toggleable\"><input class=\"sk-toggleable__control sk-hidden--visually\" id=\"sk-estimator-id-7\" type=\"checkbox\" checked><label for=\"sk-estimator-id-7\" class=\"sk-toggleable__label sk-toggleable__label-arrow\">DecisionTreeClassifier</label><div class=\"sk-toggleable__content\"><pre>DecisionTreeClassifier(max_depth=7)</pre></div></div></div></div></div>"
      ],
      "text/plain": [
       "DecisionTreeClassifier(max_depth=7)"
      ]
     },
     "execution_count": 312,
     "metadata": {},
     "output_type": "execute_result"
    }
   ],
   "source": [
    "\n",
    "DTC = DecisionTreeClassifier(max_depth = 7)\n",
    "DTC.fit(X_smote,y_smote)"
   ]
  },
  {
   "cell_type": "code",
   "execution_count": 313,
   "id": "365b54e9",
   "metadata": {},
   "outputs": [
    {
     "data": {
      "text/plain": [
       "(0.7403298784514707, 0.7566564063943535, 0.7598689971627728)"
      ]
     },
     "execution_count": 313,
     "metadata": {},
     "output_type": "execute_result"
    }
   ],
   "source": [
    "DTC.score(X_smote,y_smote),DTC.score(X_train,y_train),DTC.score(X_test,y_test)"
   ]
  },
  {
   "cell_type": "code",
   "execution_count": 314,
   "id": "2deb673e",
   "metadata": {},
   "outputs": [
    {
     "data": {
      "text/plain": [
       "<sklearn.metrics._plot.confusion_matrix.ConfusionMatrixDisplay at 0x15039593100>"
      ]
     },
     "execution_count": 314,
     "metadata": {},
     "output_type": "execute_result"
    },
    {
     "data": {
      "image/png": "[encoded data removed]",
      "text/plain": [
       "<Figure size 432x288 with 2 Axes>"
      ]
     },
     "metadata": {
      "needs_background": "light"
     },
     "output_type": "display_data"
    }
   ],
   "source": [
    "ConfusionMatrixDisplay(confusion_matrix(y_test,DTC.predict(X_test))).plot()"
   ]
  },
  {
   "cell_type": "code",
   "execution_count": null,
   "id": "d67e497d",
   "metadata": {},
   "outputs": [],
   "source": []
  },
  {
   "cell_type": "code",
   "execution_count": null,
   "id": "455e3ac1",
   "metadata": {},
   "outputs": [],
   "source": []
  },
  {
   "cell_type": "code",
   "execution_count": null,
   "id": "ea69e73d",
   "metadata": {},
   "outputs": [],
   "source": []
  },
  {
   "cell_type": "markdown",
   "id": "7b084505",
   "metadata": {},
   "source": [
    "# LogisticRegression"
   ]
  },
  {
   "cell_type": "code",
   "execution_count": 318,
   "id": "56dfe23d",
   "metadata": {},
   "outputs": [
    {
     "data": {
      "text/plain": [
       "(0.6573936109246312, 0.6739465480402116)"
      ]
     },
     "execution_count": 318,
     "metadata": {},
     "output_type": "execute_result"
    }
   ],
   "source": [
    "from sklearn.linear_model import LogisticRegression\n",
    "\n",
    "LR = LogisticRegression(class_weight = \"balanced\")\n",
    "\n",
    "LR.fit(X_smote,y_smote)\n",
    "LR.score(X_smote,y_smote),LR.score(X_test,y_test)"
   ]
  },
  {
   "cell_type": "code",
   "execution_count": null,
   "id": "799f8f59",
   "metadata": {},
   "outputs": [],
   "source": []
  },
  {
   "cell_type": "code",
   "execution_count": 323,
   "id": "f4c9eb98",
   "metadata": {},
   "outputs": [
    {
     "name": "stdout",
     "output_type": "stream",
     "text": [
      "Precision at theshold 0.75 is :  0.5010290418477018\n"
     ]
    }
   ],
   "source": [
    "def custom_predict(X, model,threshold):\n",
    "        probs = model.predict_proba(X) \n",
    "        return (probs[:, 1] > threshold).astype(int)\n",
    "\n",
    "\n",
    "\n",
    "threshold = 0.75\n",
    "new_preds = custom_predict(X=X_test,model =LR , threshold=threshold)\n",
    "\n",
    "\n",
    "from sklearn.metrics import accuracy_score\n",
    "\n",
    "print(f\"Precision at theshold {threshold} is : \",precision_score(y_test,new_preds))\n"
   ]
  },
  {
   "cell_type": "code",
   "execution_count": 339,
   "id": "00b3cf6f",
   "metadata": {},
   "outputs": [
    {
     "data": {
      "text/plain": [
       "0.8012890118743213"
      ]
     },
     "execution_count": 339,
     "metadata": {},
     "output_type": "execute_result"
    }
   ],
   "source": [
    "y_pred = custom_predict(X=X_test,model =LR , threshold=0.75)\n",
    "accuracy_score(y_test,y_pred)"
   ]
  },
  {
   "cell_type": "code",
   "execution_count": 340,
   "id": "1c3db658",
   "metadata": {},
   "outputs": [
    {
     "data": {
      "text/plain": [
       "<sklearn.metrics._plot.confusion_matrix.ConfusionMatrixDisplay at 0x15022578a30>"
      ]
     },
     "execution_count": 340,
     "metadata": {},
     "output_type": "execute_result"
    },
    {
     "data": {
      "image/png": "[encoded data removed]",
      "text/plain": [
       "<Figure size 432x288 with 2 Axes>"
      ]
     },
     "metadata": {
      "needs_background": "light"
     },
     "output_type": "display_data"
    }
   ],
   "source": [
    "ConfusionMatrixDisplay(confusion_matrix(y_test,y_pred)).plot()"
   ]
  },
  {
   "cell_type": "code",
   "execution_count": 341,
   "id": "5b983c66",
   "metadata": {},
   "outputs": [
    {
     "name": "stdout",
     "output_type": "stream",
     "text": [
      "\n",
      "\n",
      "Accuracy_score : Test and Train : \n",
      "(0.8012890118743213, 0.8012890118743213),\n",
      "\n",
      "precision_score : Test and Train : \n",
      "(0.5010290418477018, 0.47654406262591376),\n",
      "                                             \n",
      "recall_score : Test and Train : \n",
      "(0.19295464553060326, 0.18328536639362408),\n",
      "                                              \n",
      "fbeta_score : Test and Train : \n",
      "(0.3797621936423199, 0.36101759955347024)\n",
      "\n"
     ]
    }
   ],
   "source": [
    "y_pred_test = custom_predict(X=X_test,model =LR , threshold=0.75)\n",
    "y_pred_train = custom_predict(X=X_train,model =LR , threshold=0.75)\n",
    "\n",
    "print(f\"\"\"\n",
    "\n",
    "Accuracy_score : Test and Train : \n",
    "{accuracy_score(y_test,y_pred),accuracy_score(y_test,y_pred)},\n",
    "\n",
    "precision_score : Test and Train : \n",
    "{precision_score(y_test,\n",
    "                y_pred_test),precision_score(y_train,\n",
    "                                             y_pred_train)},\n",
    "                                             \n",
    "recall_score : Test and Train : \n",
    "{recall_score(y_test,\n",
    "             y_pred_test),recall_score(y_train,\n",
    "                                              y_pred_train)},\n",
    "                                              \n",
    "fbeta_score : Test and Train : \n",
    "{fbeta_score(y_test,\n",
    "            y_pred_test,\n",
    "            beta=0.5),fbeta_score(y_train,\n",
    "                                  y_pred_train,\n",
    "                                  beta=0.5)}\n",
    "\"\"\")\n"
   ]
  },
  {
   "cell_type": "code",
   "execution_count": null,
   "id": "49b3965d",
   "metadata": {},
   "outputs": [],
   "source": []
  },
  {
   "cell_type": "markdown",
   "id": "598fb776",
   "metadata": {},
   "source": [
    "# RandomForestClassifier"
   ]
  },
  {
   "cell_type": "code",
   "execution_count": 342,
   "id": "95bdb85b",
   "metadata": {},
   "outputs": [
    {
     "data": {
      "text/plain": [
       "(0.659642101852541, 0.6634733265613506)"
      ]
     },
     "execution_count": 342,
     "metadata": {},
     "output_type": "execute_result"
    }
   ],
   "source": [
    "from sklearn.ensemble import RandomForestClassifier\n",
    "\n",
    "RFC = RandomForestClassifier(n_estimators=200,\n",
    "                             max_depth = 7,class_weight = \"balanced\")\n",
    "\n",
    "RFC.fit(X_smote,y_smote)\n",
    "RFC.score(X_train,y_train),RFC.score(X_test,y_test)"
   ]
  },
  {
   "cell_type": "code",
   "execution_count": 343,
   "id": "065d66d8",
   "metadata": {},
   "outputs": [
    {
     "data": {
      "text/plain": [
       "(0.7101910828025477, 0.659642101852541, 0.6634733265613506)"
      ]
     },
     "execution_count": 343,
     "metadata": {},
     "output_type": "execute_result"
    }
   ],
   "source": [
    "RFC.score(X_smote,y_smote),RFC.score(X_train,y_train),RFC.score(X_test,y_test)"
   ]
  },
  {
   "cell_type": "code",
   "execution_count": 344,
   "id": "bf05861d",
   "metadata": {},
   "outputs": [
    {
     "name": "stdout",
     "output_type": "stream",
     "text": [
      "\n",
      "\n",
      "Accuracy_score : Test and Train : \n",
      "(0.8012890118743213, 0.8012890118743213),\n",
      "\n",
      "precision_score : Test and Train : \n",
      "(0.5484171322160148, 0.5410798122065728),\n",
      "                                             \n",
      "recall_score : Test and Train : \n",
      "(0.05187142228093351, 0.05102944432145229),\n",
      "                                              \n",
      "fbeta_score : Test and Train : \n",
      "(0.18816689029454986, 0.18525960456518245)\n",
      "\n"
     ]
    }
   ],
   "source": [
    "y_pred_test = custom_predict(X=X_test,model =RFC , threshold=0.75)\n",
    "y_pred_train = custom_predict(X=X_train,model =RFC , threshold=0.75)\n",
    "\n",
    "print(f\"\"\"\n",
    "\n",
    "Accuracy_score : Test and Train : \n",
    "{accuracy_score(y_test,y_pred),accuracy_score(y_test,y_pred)},\n",
    "\n",
    "precision_score : Test and Train : \n",
    "{precision_score(y_test,\n",
    "                y_pred_test),precision_score(y_train,\n",
    "                                             y_pred_train)},\n",
    "                                             \n",
    "recall_score : Test and Train : \n",
    "{recall_score(y_test,\n",
    "             y_pred_test),recall_score(y_train,\n",
    "                                              y_pred_train)},\n",
    "                                              \n",
    "fbeta_score : Test and Train : \n",
    "{fbeta_score(y_test,\n",
    "            y_pred_test,\n",
    "            beta=0.5),fbeta_score(y_train,\n",
    "                                  y_pred_train,\n",
    "                                  beta=0.5)}\n",
    "\"\"\")\n"
   ]
  },
  {
   "cell_type": "code",
   "execution_count": null,
   "id": "0b1a5e4f",
   "metadata": {},
   "outputs": [],
   "source": []
  },
  {
   "cell_type": "code",
   "execution_count": null,
   "id": "468e0237",
   "metadata": {},
   "outputs": [],
   "source": []
  },
  {
   "cell_type": "code",
   "execution_count": null,
   "id": "20f1cda1",
   "metadata": {},
   "outputs": [],
   "source": []
  },
  {
   "cell_type": "code",
   "execution_count": null,
   "id": "ab7dd673",
   "metadata": {},
   "outputs": [],
   "source": []
  },
  {
   "cell_type": "code",
   "execution_count": 345,
   "id": "c87f4c09",
   "metadata": {},
   "outputs": [
    {
     "data": {
      "text/html": [
       "<div>\n",
       "<style scoped>\n",
       "    .dataframe tbody tr th:only-of-type {\n",
       "        vertical-align: middle;\n",
       "    }\n",
       "\n",
       "    .dataframe tbody tr th {\n",
       "        vertical-align: top;\n",
       "    }\n",
       "\n",
       "    .dataframe thead th {\n",
       "        text-align: right;\n",
       "    }\n",
       "</style>\n",
       "<table border=\"1\" class=\"dataframe\">\n",
       "  <thead>\n",
       "    <tr style=\"text-align: right;\">\n",
       "      <th></th>\n",
       "      <th>loan_amnt</th>\n",
       "      <th>term</th>\n",
       "      <th>int_rate</th>\n",
       "      <th>installment</th>\n",
       "      <th>grade</th>\n",
       "      <th>sub_grade</th>\n",
       "      <th>home_ownership</th>\n",
       "      <th>annual_inc</th>\n",
       "      <th>purpose</th>\n",
       "      <th>dti</th>\n",
       "      <th>open_acc</th>\n",
       "      <th>pub_rec</th>\n",
       "      <th>revol_bal</th>\n",
       "      <th>revol_util</th>\n",
       "      <th>total_acc</th>\n",
       "      <th>application_type</th>\n",
       "      <th>mort_acc</th>\n",
       "      <th>pub_rec_bankruptcies</th>\n",
       "    </tr>\n",
       "  </thead>\n",
       "  <tbody>\n",
       "    <tr>\n",
       "      <th>0</th>\n",
       "      <td>10000.0</td>\n",
       "      <td>0</td>\n",
       "      <td>11.44</td>\n",
       "      <td>329.48</td>\n",
       "      <td>1</td>\n",
       "      <td>8</td>\n",
       "      <td>0.231140</td>\n",
       "      <td>117000.0</td>\n",
       "      <td>0.189673</td>\n",
       "      <td>26.24</td>\n",
       "      <td>16.0</td>\n",
       "      <td>0</td>\n",
       "      <td>36369.0</td>\n",
       "      <td>41.8</td>\n",
       "      <td>25.0</td>\n",
       "      <td>0.197431</td>\n",
       "      <td>0</td>\n",
       "      <td>0</td>\n",
       "    </tr>\n",
       "    <tr>\n",
       "      <th>1</th>\n",
       "      <td>8000.0</td>\n",
       "      <td>0</td>\n",
       "      <td>11.99</td>\n",
       "      <td>265.68</td>\n",
       "      <td>1</td>\n",
       "      <td>9</td>\n",
       "      <td>0.169781</td>\n",
       "      <td>65000.0</td>\n",
       "      <td>0.208164</td>\n",
       "      <td>22.05</td>\n",
       "      <td>17.0</td>\n",
       "      <td>0</td>\n",
       "      <td>20131.0</td>\n",
       "      <td>53.3</td>\n",
       "      <td>27.0</td>\n",
       "      <td>0.197431</td>\n",
       "      <td>1</td>\n",
       "      <td>0</td>\n",
       "    </tr>\n",
       "    <tr>\n",
       "      <th>3</th>\n",
       "      <td>7200.0</td>\n",
       "      <td>0</td>\n",
       "      <td>6.49</td>\n",
       "      <td>220.65</td>\n",
       "      <td>0</td>\n",
       "      <td>1</td>\n",
       "      <td>0.231140</td>\n",
       "      <td>54000.0</td>\n",
       "      <td>0.166309</td>\n",
       "      <td>2.60</td>\n",
       "      <td>6.0</td>\n",
       "      <td>0</td>\n",
       "      <td>5472.0</td>\n",
       "      <td>21.5</td>\n",
       "      <td>13.0</td>\n",
       "      <td>0.197431</td>\n",
       "      <td>0</td>\n",
       "      <td>0</td>\n",
       "    </tr>\n",
       "    <tr>\n",
       "      <th>4</th>\n",
       "      <td>24375.0</td>\n",
       "      <td>1</td>\n",
       "      <td>17.27</td>\n",
       "      <td>609.33</td>\n",
       "      <td>2</td>\n",
       "      <td>14</td>\n",
       "      <td>0.169781</td>\n",
       "      <td>55000.0</td>\n",
       "      <td>0.166309</td>\n",
       "      <td>33.95</td>\n",
       "      <td>13.0</td>\n",
       "      <td>0</td>\n",
       "      <td>24584.0</td>\n",
       "      <td>69.8</td>\n",
       "      <td>43.0</td>\n",
       "      <td>0.197431</td>\n",
       "      <td>1</td>\n",
       "      <td>0</td>\n",
       "    </tr>\n",
       "    <tr>\n",
       "      <th>5</th>\n",
       "      <td>20000.0</td>\n",
       "      <td>0</td>\n",
       "      <td>13.33</td>\n",
       "      <td>677.07</td>\n",
       "      <td>2</td>\n",
       "      <td>12</td>\n",
       "      <td>0.169781</td>\n",
       "      <td>86788.0</td>\n",
       "      <td>0.208164</td>\n",
       "      <td>16.31</td>\n",
       "      <td>8.0</td>\n",
       "      <td>0</td>\n",
       "      <td>25757.0</td>\n",
       "      <td>100.6</td>\n",
       "      <td>23.0</td>\n",
       "      <td>0.197431</td>\n",
       "      <td>1</td>\n",
       "      <td>0</td>\n",
       "    </tr>\n",
       "    <tr>\n",
       "      <th>...</th>\n",
       "      <td>...</td>\n",
       "      <td>...</td>\n",
       "      <td>...</td>\n",
       "      <td>...</td>\n",
       "      <td>...</td>\n",
       "      <td>...</td>\n",
       "      <td>...</td>\n",
       "      <td>...</td>\n",
       "      <td>...</td>\n",
       "      <td>...</td>\n",
       "      <td>...</td>\n",
       "      <td>...</td>\n",
       "      <td>...</td>\n",
       "      <td>...</td>\n",
       "      <td>...</td>\n",
       "      <td>...</td>\n",
       "      <td>...</td>\n",
       "      <td>...</td>\n",
       "    </tr>\n",
       "    <tr>\n",
       "      <th>396022</th>\n",
       "      <td>12000.0</td>\n",
       "      <td>0</td>\n",
       "      <td>12.29</td>\n",
       "      <td>400.24</td>\n",
       "      <td>2</td>\n",
       "      <td>10</td>\n",
       "      <td>0.231140</td>\n",
       "      <td>52100.0</td>\n",
       "      <td>0.208164</td>\n",
       "      <td>17.28</td>\n",
       "      <td>6.0</td>\n",
       "      <td>0</td>\n",
       "      <td>9580.0</td>\n",
       "      <td>66.1</td>\n",
       "      <td>18.0</td>\n",
       "      <td>0.197431</td>\n",
       "      <td>0</td>\n",
       "      <td>0</td>\n",
       "    </tr>\n",
       "    <tr>\n",
       "      <th>396025</th>\n",
       "      <td>10000.0</td>\n",
       "      <td>1</td>\n",
       "      <td>10.99</td>\n",
       "      <td>217.38</td>\n",
       "      <td>1</td>\n",
       "      <td>8</td>\n",
       "      <td>0.231140</td>\n",
       "      <td>40000.0</td>\n",
       "      <td>0.208164</td>\n",
       "      <td>15.63</td>\n",
       "      <td>6.0</td>\n",
       "      <td>0</td>\n",
       "      <td>1990.0</td>\n",
       "      <td>34.3</td>\n",
       "      <td>23.0</td>\n",
       "      <td>0.197431</td>\n",
       "      <td>0</td>\n",
       "      <td>0</td>\n",
       "    </tr>\n",
       "    <tr>\n",
       "      <th>396026</th>\n",
       "      <td>21000.0</td>\n",
       "      <td>0</td>\n",
       "      <td>12.29</td>\n",
       "      <td>700.42</td>\n",
       "      <td>2</td>\n",
       "      <td>10</td>\n",
       "      <td>0.169781</td>\n",
       "      <td>110000.0</td>\n",
       "      <td>0.208164</td>\n",
       "      <td>21.45</td>\n",
       "      <td>6.0</td>\n",
       "      <td>0</td>\n",
       "      <td>43263.0</td>\n",
       "      <td>95.7</td>\n",
       "      <td>8.0</td>\n",
       "      <td>0.197431</td>\n",
       "      <td>1</td>\n",
       "      <td>0</td>\n",
       "    </tr>\n",
       "    <tr>\n",
       "      <th>396027</th>\n",
       "      <td>5000.0</td>\n",
       "      <td>0</td>\n",
       "      <td>9.99</td>\n",
       "      <td>161.32</td>\n",
       "      <td>1</td>\n",
       "      <td>5</td>\n",
       "      <td>0.231140</td>\n",
       "      <td>56500.0</td>\n",
       "      <td>0.208164</td>\n",
       "      <td>17.56</td>\n",
       "      <td>15.0</td>\n",
       "      <td>0</td>\n",
       "      <td>32704.0</td>\n",
       "      <td>66.9</td>\n",
       "      <td>23.0</td>\n",
       "      <td>0.197431</td>\n",
       "      <td>0</td>\n",
       "      <td>0</td>\n",
       "    </tr>\n",
       "    <tr>\n",
       "      <th>396028</th>\n",
       "      <td>21000.0</td>\n",
       "      <td>1</td>\n",
       "      <td>15.31</td>\n",
       "      <td>503.02</td>\n",
       "      <td>2</td>\n",
       "      <td>11</td>\n",
       "      <td>0.169781</td>\n",
       "      <td>64000.0</td>\n",
       "      <td>0.208164</td>\n",
       "      <td>15.88</td>\n",
       "      <td>9.0</td>\n",
       "      <td>0</td>\n",
       "      <td>15704.0</td>\n",
       "      <td>53.8</td>\n",
       "      <td>20.0</td>\n",
       "      <td>0.197431</td>\n",
       "      <td>1</td>\n",
       "      <td>0</td>\n",
       "    </tr>\n",
       "  </tbody>\n",
       "</table>\n",
       "<p>285487 rows × 18 columns</p>\n",
       "</div>"
      ],
      "text/plain": [
       "        loan_amnt  term  int_rate  installment  grade  sub_grade  home_ownership  annual_inc   purpose    dti  open_acc  pub_rec  revol_bal  revol_util  total_acc  application_type  mort_acc  pub_rec_bankruptcies\n",
       "0         10000.0     0     11.44       329.48      1          8        0.231140    117000.0  0.189673  26.24      16.0        0    36369.0        41.8       25.0          0.197431         0                     0\n",
       "1          8000.0     0     11.99       265.68      1          9        0.169781     65000.0  0.208164  22.05      17.0        0    20131.0        53.3       27.0          0.197431         1                     0\n",
       "3          7200.0     0      6.49       220.65      0          1        0.231140     54000.0  0.166309   2.60       6.0        0     5472.0        21.5       13.0          0.197431         0                     0\n",
       "4         24375.0     1     17.27       609.33      2         14        0.169781     55000.0  0.166309  33.95      13.0        0    24584.0        69.8       43.0          0.197431         1                     0\n",
       "5         20000.0     0     13.33       677.07      2         12        0.169781     86788.0  0.208164  16.31       8.0        0    25757.0       100.6       23.0          0.197431         1                     0\n",
       "...           ...   ...       ...          ...    ...        ...             ...         ...       ...    ...       ...      ...        ...         ...        ...               ...       ...                   ...\n",
       "396022    12000.0     0     12.29       400.24      2         10        0.231140     52100.0  0.208164  17.28       6.0        0     9580.0        66.1       18.0          0.197431         0                     0\n",
       "396025    10000.0     1     10.99       217.38      1          8        0.231140     40000.0  0.208164  15.63       6.0        0     1990.0        34.3       23.0          0.197431         0                     0\n",
       "396026    21000.0     0     12.29       700.42      2         10        0.169781    110000.0  0.208164  21.45       6.0        0    43263.0        95.7        8.0          0.197431         1                     0\n",
       "396027     5000.0     0      9.99       161.32      1          5        0.231140     56500.0  0.208164  17.56      15.0        0    32704.0        66.9       23.0          0.197431         0                     0\n",
       "396028    21000.0     1     15.31       503.02      2         11        0.169781     64000.0  0.208164  15.88       9.0        0    15704.0        53.8       20.0          0.197431         1                     0\n",
       "\n",
       "[285487 rows x 18 columns]"
      ]
     },
     "execution_count": 345,
     "metadata": {},
     "output_type": "execute_result"
    }
   ],
   "source": [
    "X"
   ]
  },
  {
   "cell_type": "code",
   "execution_count": 356,
   "id": "90a43519",
   "metadata": {},
   "outputs": [
    {
     "data": {
      "text/plain": [
       "({' 36 months': 0, ' 60 months': 1},\n",
       " {'A': 0, 'B': 1, 'C': 2, 'D': 3, 'E': 4, 'F': 5, 'G': 6},\n",
       " {'A1': 0,\n",
       "  'A2': 1,\n",
       "  'A3': 2,\n",
       "  'A4': 3,\n",
       "  'A5': 4,\n",
       "  'B1': 5,\n",
       "  'B2': 6,\n",
       "  'B3': 7,\n",
       "  'B4': 8,\n",
       "  'B5': 9,\n",
       "  'C1': 10,\n",
       "  'C2': 11,\n",
       "  'C3': 12,\n",
       "  'C4': 13,\n",
       "  'C5': 14,\n",
       "  'D1': 15,\n",
       "  'D2': 16,\n",
       "  'D3': 17,\n",
       "  'D4': 18,\n",
       "  'D5': 19,\n",
       "  'E1': 20,\n",
       "  'E2': 21,\n",
       "  'E3': 22,\n",
       "  'E4': 23,\n",
       "  'E5': 24,\n",
       "  'F1': 25,\n",
       "  'F2': 26,\n",
       "  'F3': 27,\n",
       "  'F4': 28,\n",
       "  'F5': 29,\n",
       "  'G1': 30,\n",
       "  'G2': 31,\n",
       "  'G3': 32,\n",
       "  'G4': 33,\n",
       "  'G5': 34},\n",
       " {'MORTGAGE': 0.1697808373138522,\n",
       "  'OTHER': 0.22033898305084745,\n",
       "  'OWN': 0.204155258495732,\n",
       "  'RENT': 0.2311396828241197,\n",
       "  'All': 0.1974347064918361},\n",
       " {'car': 0.1402081977878985,\n",
       "  'credit_card': 0.16630877656645743,\n",
       "  'debt_consolidation': 0.20816406441192306,\n",
       "  'educational': 0.0,\n",
       "  'home_improvement': 0.17161480877934512,\n",
       "  'house': 0.21132516053706946,\n",
       "  'major_purchase': 0.17779173865242656,\n",
       "  'medical': 0.22043840691571473,\n",
       "  'moving': 0.2465564738292011,\n",
       "  'other': 0.21785846609855503,\n",
       "  'renewable_energy': 0.23555555555555555,\n",
       "  'small_business': 0.3146894318516338,\n",
       "  'vacation': 0.18967280163599182,\n",
       "  'wedding': 0.14316469321851452,\n",
       "  'All': 0.1974347064918361},\n",
       " {'DIRECT_PAY': 0.32653061224489793,\n",
       "  'INDIVIDUAL': 0.1974310492914062,\n",
       "  'JOINT': 0.09967845659163987,\n",
       "  'All': 0.1974347064918361})"
      ]
     },
     "execution_count": 356,
     "metadata": {},
     "output_type": "execute_result"
    }
   ],
   "source": [
    "term_map,Grade_map,sub_grade_map,home_ownership_map,purpose_map,application_type_map"
   ]
  },
  {
   "cell_type": "code",
   "execution_count": 357,
   "id": "a72a5a70",
   "metadata": {},
   "outputs": [
    {
     "data": {
      "text/plain": [
       "0         0\n",
       "1         0\n",
       "3         0\n",
       "4         1\n",
       "5         0\n",
       "         ..\n",
       "396022    0\n",
       "396025    0\n",
       "396026    0\n",
       "396027    0\n",
       "396028    0\n",
       "Name: loan_status, Length: 285487, dtype: int64"
      ]
     },
     "execution_count": 357,
     "metadata": {},
     "output_type": "execute_result"
    }
   ],
   "source": [
    "y"
   ]
  },
  {
   "cell_type": "code",
   "execution_count": null,
   "id": "dd9ac387",
   "metadata": {},
   "outputs": [],
   "source": []
  },
  {
   "cell_type": "code",
   "execution_count": null,
   "id": "08db494c",
   "metadata": {},
   "outputs": [],
   "source": []
  }
 ],
 "metadata": {
  "kernelspec": {
   "display_name": "Python 3 (ipykernel)",
   "language": "python",
   "name": "python3"
  },
  "language_info": {
   "codemirror_mode": {
    "name": "ipython",
    "version": 3
   },
   "file_extension": ".py",
   "mimetype": "text/x-python",
   "name": "python",
   "nbconvert_exporter": "python",
   "pygments_lexer": "ipython3",
   "version": "3.9.7"
  }
 },
 "nbformat": 4,
 "nbformat_minor": 5
}
